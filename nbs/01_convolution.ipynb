{
 "cells": [
  {
   "cell_type": "code",
   "execution_count": 1,
   "id": "72cb9d7f-56ee-4787-80a9-deb1e0bd46cc",
   "metadata": {
    "tags": []
   },
   "outputs": [],
   "source": [
    "from fastcore.all import *\n",
    "import numpy as np\n",
    "import torch\n",
    "import random\n",
    "import time"
   ]
  },
  {
   "cell_type": "code",
   "execution_count": 8,
   "id": "3295405b-c38d-4185-9905-f3f86c91cd4e",
   "metadata": {
    "tags": []
   },
   "outputs": [],
   "source": [
    "from torch import nn, optim"
   ]
  },
  {
   "cell_type": "code",
   "execution_count": 11,
   "id": "da92dc8b-fd8c-4701-bc5d-02b11742dd78",
   "metadata": {
    "tags": []
   },
   "outputs": [],
   "source": [
    "import torch.nn.functional as F"
   ]
  },
  {
   "cell_type": "code",
   "execution_count": 13,
   "id": "5eaa7a11-c724-475b-9ea6-6a01b14c0eaa",
   "metadata": {
    "tags": []
   },
   "outputs": [
    {
     "name": "stdout",
     "output_type": "stream",
     "text": [
      "[[0 0 0 0]\n",
      " [2 0 0 0]\n",
      " [0 0 0 0]\n",
      " [0 0 0 2]]\n"
     ]
    }
   ],
   "source": [
    "import numpy as np\n",
    "import random\n",
    "class Game2048:\n",
    "    def __init__(self):\n",
    "        self.size = 4\n",
    "        self.score = 0\n",
    "        self.board = np.zeros((self.size, self.size), dtype=int)\n",
    "        self.add_new_tile()\n",
    "        self.add_new_tile()\n",
    "        self.nomove = False\n",
    "    def add_new_tile(self):\n",
    "        empty_tiles = list(zip(*np.where(self.board == 0)))\n",
    "        if empty_tiles:\n",
    "            x, y = random.choice(empty_tiles)\n",
    "            self.board[x][y] = 2 if random.random() < 0.9 else 4\n",
    "    def move(self, direction):\n",
    "        self.nomove = False\n",
    "        prev_board = self.board.copy()\n",
    "        if direction == 'down':\n",
    "            self.board = np.rot90(self.board, -1)\n",
    "            self._move_left()\n",
    "            self.board = np.rot90(self.board)\n",
    "        elif direction == 'up':\n",
    "            self.board = np.rot90(self.board, 1)\n",
    "            self._move_left()\n",
    "            self.board = np.rot90(self.board, -1)\n",
    "        elif direction == 'left':\n",
    "            self._move_left()\n",
    "        elif direction == 'right':\n",
    "            self.board = np.fliplr(self.board)\n",
    "            self._move_left()\n",
    "            self.board = np.fliplr(self.board)\n",
    "        self.nomove = np.abs(self.board - prev_board).sum()==0\n",
    "        if self.nomove: return\n",
    "        self.add_new_tile()\n",
    "    def _move_left(self):\n",
    "        self.reward = 0\n",
    "        new_board = np.zeros((self.size, self.size), dtype=int)\n",
    "        for i in range(self.size):\n",
    "            row = self.board[i][self.board[i] != 0]\n",
    "            new_row = []\n",
    "            skip = False\n",
    "            for j in range(len(row)):\n",
    "                if skip:\n",
    "                    skip = False\n",
    "                    continue\n",
    "                if j + 1 < len(row) and row[j] == row[j + 1]:\n",
    "                    new_row.append(row[j] * 2)\n",
    "                    self.score += row[j]*2\n",
    "                    self.reward += row[j]*2\n",
    "                    skip = True\n",
    "                else:\n",
    "                    new_row.append(row[j])\n",
    "            new_board[i, :len(new_row)] = new_row\n",
    "        self.board[:] = new_board\n",
    "    def is_game_over(self):\n",
    "        if not np.any(self.board == 0):\n",
    "            for i in range(self.size):\n",
    "                for j in range(self.size - 1):\n",
    "                    if self.board[i][j] == self.board[i][j + 1] or \\\n",
    "                        self.board[j][i] == self.board[j + 1][i]:\n",
    "                        return False\n",
    "            return True\n",
    "        return False\n",
    "game = Game2048()\n",
    "print(game.board)"
   ]
  },
  {
   "cell_type": "code",
   "execution_count": 5,
   "id": "0fbd2184-a738-4735-b176-94c341fd737a",
   "metadata": {
    "tags": []
   },
   "outputs": [],
   "source": [
    "class ConvBlock(torch.nn.Module):\n",
    "    def __init__(self, input_dim, output_dim):\n",
    "        super(ConvBlock, self).__init__()\n",
    "        d = output_dim // 4\n",
    "        self.conv1 = nn.Conv2d(input_dim, d, 1, padding='same')\n",
    "        self.conv2 = nn.Conv2d(input_dim, d, 2, padding='same')\n",
    "        self.conv3 = nn.Conv2d(input_dim, d, 3, padding='same')\n",
    "        self.conv4 = nn.Conv2d(input_dim, d, 4, padding='same')\n",
    "\n",
    "    def forward(self, x):\n",
    "        x = x.to(device)\n",
    "        output1 = self.conv1(x)\n",
    "        output2 = self.conv2(x)\n",
    "        output3 = self.conv3(x)\n",
    "        output4 = self.conv4(x)\n",
    "        return torch.cat((output1, output2, output3, output4), dim=1)\n",
    "\n",
    "class DQN(torch.nn.Module):\n",
    "\n",
    "    def __init__(self):\n",
    "        super(DQN, self).__init__()\n",
    "        self.conv1 = ConvBlock(16, 2048)\n",
    "        self.conv2 = ConvBlock(2048, 2048)\n",
    "        self.conv3 = ConvBlock(2048, 2048)\n",
    "        self.dense1 = nn.Linear(2048 * 16, 1024)\n",
    "        self.dense2 = nn.Linear(1024, 4)\n",
    "    \n",
    "    def forward(self, x):\n",
    "        x = x.to(device)\n",
    "        x = F.relu(self.conv1(x))\n",
    "        x = F.relu(self.conv2(x))\n",
    "        x = F.relu(self.conv3(x))\n",
    "        x = nn.Flatten()(x)\n",
    "        x = F.dropout(self.dense1(x))\n",
    "        return self.dense2(x)"
   ]
  },
  {
   "cell_type": "code",
   "execution_count": 73,
   "id": "60d96b96-1c09-4707-86a0-cd29d4f776fd",
   "metadata": {
    "tags": []
   },
   "outputs": [],
   "source": [
    "def mse_loss(pred, goal):\n",
    "    return torch.mean((pred-goal)**2)    "
   ]
  },
  {
   "cell_type": "code",
   "execution_count": 108,
   "id": "d12f85fe-69f7-4cb0-a38f-5082511df9b4",
   "metadata": {
    "tags": []
   },
   "outputs": [],
   "source": [
    "def flatten(lst):\n",
    "    return torch.tensor(lst).view(1, 4, 4)\n",
    "mapping = {2**i: i for i in range(1, 16)}\n",
    "mapping[0] = 0\n",
    "def get_state(game):\n",
    "    states = []\n",
    "    for move in ['down', 'left', 'up', 'right']:\n",
    "        new_game = Game2048()\n",
    "        new_game.board = game.board.copy()\n",
    "        new_game.move(move)\n",
    "        states.append(flatten([[mapping[int(item)] for item in row] for row in game.board])) \n",
    "    states.append(flatten([[mapping[int(item)] for item in row] for row in game.board]))\n",
    "    data = torch.stack(states, dim=1)\n",
    "    return F.one_hot(data, 16).view(1, 80, 4, 4).float()"
   ]
  },
  {
   "cell_type": "code",
   "execution_count": 109,
   "id": "9bda34c1-f106-45a3-9bc0-517f5204c237",
   "metadata": {
    "tags": []
   },
   "outputs": [],
   "source": [
    "device= 'mps'\n",
    "d = DQN()\n",
    "d.to(device)\n",
    "data = get_state(Game2048())"
   ]
  },
  {
   "cell_type": "code",
   "execution_count": 110,
   "id": "e068124c-0afc-4dd2-8a3c-48283ce4008c",
   "metadata": {
    "tags": []
   },
   "outputs": [],
   "source": [
    "game = Game2048()"
   ]
  },
  {
   "cell_type": "code",
   "execution_count": 114,
   "id": "b96df929-fd7a-417b-91d5-871c20a7e8d1",
   "metadata": {
    "tags": []
   },
   "outputs": [
    {
     "name": "stdout",
     "output_type": "stream",
     "text": [
      "2.7 ms ± 758 μs per loop (mean ± std. dev. of 7 runs, 100 loops each)\n"
     ]
    }
   ],
   "source": [
    "%%timeit -n 100\n",
    "d(data)"
   ]
  },
  {
   "cell_type": "code",
   "execution_count": 113,
   "id": "085a5178-edcf-4934-bf91-6b0b57b2e5b1",
   "metadata": {
    "tags": []
   },
   "outputs": [
    {
     "data": {
      "text/plain": [
       "tensor([[-0.0463,  0.0449, -0.0162, -0.0287]], device='mps:0',\n",
       "       grad_fn=<LinearBackward0>)"
      ]
     },
     "execution_count": 113,
     "metadata": {},
     "output_type": "execute_result"
    }
   ],
   "source": [
    "d(data)"
   ]
  },
  {
   "cell_type": "code",
   "execution_count": 63,
   "id": "a68a1165-e62b-41a0-9283-87fbeda87ff5",
   "metadata": {
    "tags": []
   },
   "outputs": [],
   "source": [
    "from IPython.display import *"
   ]
  },
  {
   "cell_type": "code",
   "execution_count": 67,
   "id": "01214272-edb9-4818-9905-843e0f50c5bd",
   "metadata": {
    "tags": []
   },
   "outputs": [],
   "source": [
    "import matplotlib.pyplot as plt"
   ]
  },
  {
   "cell_type": "code",
   "execution_count": 68,
   "id": "c7e10b60-cd12-4d94-b360-e97e0b8c2c14",
   "metadata": {
    "tags": []
   },
   "outputs": [
    {
     "data": {
      "text/plain": [
       "<function IPython.core.display_functions.clear_output(wait=False)>"
      ]
     },
     "execution_count": 68,
     "metadata": {},
     "output_type": "execute_result"
    }
   ],
   "source": [
    "clear_output"
   ]
  },
  {
   "cell_type": "code",
   "execution_count": 143,
   "id": "63df3067-8e4d-4131-82fb-43badddd4cdc",
   "metadata": {
    "tags": []
   },
   "outputs": [],
   "source": [
    "class ConvBlock(torch.nn.Module):\n",
    "    def __init__(self, input_dim, output_dim):\n",
    "        super(ConvBlock, self).__init__()\n",
    "        d = output_dim // 4\n",
    "        self.conv1 = nn.Conv2d(input_dim, d, 1, padding='same')\n",
    "        self.conv2 = nn.Conv2d(input_dim, d, 2, padding='same')\n",
    "        self.conv3 = nn.Conv2d(input_dim, d, 3, padding='same')\n",
    "        self.conv4 = nn.Conv2d(input_dim, d, 4, padding='same')\n",
    "\n",
    "    def forward(self, x):\n",
    "        x = x.to(device)\n",
    "        output1 = self.conv1(x)\n",
    "        output2 = self.conv2(x)\n",
    "        output3 = self.conv3(x)\n",
    "        output4 = self.conv4(x)\n",
    "        return torch.cat((output1, output2, output3, output4), dim=1)\n",
    "\n",
    "class DQN(torch.nn.Module):\n",
    "\n",
    "    def __init__(self):\n",
    "        super(DQN, self).__init__()\n",
    "        self.conv1 = ConvBlock(80, 256)\n",
    "        self.conv2 = ConvBlock(256, 256)\n",
    "        self.conv3 = ConvBlock(256, 512)\n",
    "        self.dense1 = nn.Linear(512 * 16, 512)\n",
    "        self.dense2 = nn.Linear(512, 4)\n",
    "    \n",
    "    def forward(self, x):\n",
    "        x = x.to(device)\n",
    "        x = F.relu(self.conv1(x))\n",
    "        x = F.relu(self.conv2(x))\n",
    "        x = F.relu(self.conv3(x))\n",
    "        x = nn.Flatten()(x)\n",
    "        x = F.dropout(self.dense1(x))\n",
    "        return self.dense2(x)"
   ]
  },
  {
   "cell_type": "code",
   "execution_count": 138,
   "id": "3b8f7214-af0e-43d6-bbb2-13e2cc93fbd0",
   "metadata": {
    "tags": []
   },
   "outputs": [],
   "source": [
    "class FullyConnectedQNetwork(nn.Module):\n",
    "    def __init__(self, nin=80, nout=4):\n",
    "        super().__init__()\n",
    "        self.model = nn.Sequential(\n",
    "            nn.Linear(nin, 192),\n",
    "            nn.ReLU(),\n",
    "            nn.Linear(192, 64),\n",
    "            nn.ReLU(),\n",
    "            nn.Linear(64, 64),\n",
    "            nn.ReLU(),\n",
    "            nn.Linear(64, nout)\n",
    "        )\n",
    "    def forward(self, x):\n",
    "        return self.model(x)"
   ]
  },
  {
   "cell_type": "markdown",
   "id": "e746dedf-7166-4f91-826c-c9f3384292b0",
   "metadata": {},
   "source": [
    "### Must implement experience replay"
   ]
  },
  {
   "cell_type": "code",
   "execution_count": 141,
   "id": "af0d9319-fcbf-44d9-96e4-7e0aba64eb8f",
   "metadata": {
    "tags": []
   },
   "outputs": [],
   "source": [
    "replay_memory = []\n",
    "max_length = 10000"
   ]
  },
  {
   "cell_type": "code",
   "execution_count": null,
   "id": "02f0985a-c798-4576-984b-e0c275f73ea6",
   "metadata": {},
   "outputs": [],
   "source": []
  },
  {
   "cell_type": "code",
   "execution_count": 145,
   "id": "367a1d1c-59c3-4018-bb5e-8518bc90f625",
   "metadata": {
    "tags": []
   },
   "outputs": [
    {
     "data": {
      "image/png": "[encoded data removed]",
      "text/plain": [
       "<Figure size 640x480 with 1 Axes>"
      ]
     },
     "metadata": {},
     "output_type": "display_data"
    },
    {
     "ename": "KeyboardInterrupt",
     "evalue": "",
     "output_type": "error",
     "traceback": [
      "\u001b[0;31m---------------------------------------------------------------------------\u001b[0m",
      "\u001b[0;31mKeyboardInterrupt\u001b[0m                         Traceback (most recent call last)",
      "Cell \u001b[0;32mIn[145], line 23\u001b[0m\n\u001b[1;32m     21\u001b[0m state \u001b[38;5;241m=\u001b[39m get_state(game)\n\u001b[1;32m     22\u001b[0m \u001b[38;5;28;01mif\u001b[39;00m np\u001b[38;5;241m.\u001b[39mrandom\u001b[38;5;241m.\u001b[39mrand() \u001b[38;5;241m>\u001b[39m epsilons[epoch]:\n\u001b[0;32m---> 23\u001b[0m     action \u001b[38;5;241m=\u001b[39m \u001b[38;5;28;43mint\u001b[39;49m\u001b[43m(\u001b[49m\u001b[43mmodel\u001b[49m\u001b[43m(\u001b[49m\u001b[43mstate\u001b[49m\u001b[43m)\u001b[49m\u001b[38;5;241;43m.\u001b[39;49m\u001b[43margmax\u001b[49m\u001b[43m(\u001b[49m\u001b[43m)\u001b[49m\u001b[43m)\u001b[49m\n\u001b[1;32m     24\u001b[0m \u001b[38;5;28;01melse\u001b[39;00m:\n\u001b[1;32m     25\u001b[0m     action \u001b[38;5;241m=\u001b[39m random\u001b[38;5;241m.\u001b[39mrandint(\u001b[38;5;241m0\u001b[39m, \u001b[38;5;241m3\u001b[39m)\n",
      "\u001b[0;31mKeyboardInterrupt\u001b[0m: "
     ]
    }
   ],
   "source": [
    "device = 'mps'\n",
    "episodes = 30\n",
    "epsilons = np.geomspace(1, 0.01, episodes)\n",
    "model = DQN()\n",
    "model.to(device)\n",
    "optimizer = optim.Adam(model.parameters(), lr=0.002)\n",
    "gamma = 0.985\n",
    "games_each_round = 50\n",
    "avgs = []\n",
    "stds = []\n",
    "for epoch in range(episodes):\n",
    "    experience_pool = []\n",
    "    rewards = []\n",
    "    if epoch % 5 == 0:\n",
    "        experience_pool = experience_pool[5*batch_size:]\n",
    "    t0 = time.time()\n",
    "    for game_round in range(games_each_round):\n",
    "        t1 = time.time()\n",
    "        game = Game2048()\n",
    "        while not game.is_game_over():\n",
    "            state = get_state(game)\n",
    "            if np.random.rand() > epsilons[epoch]:\n",
    "                action = int(model(state).argmax())\n",
    "            else:\n",
    "                action = random.randint(0, 3)\n",
    "            game.move(['down', 'left', 'up', 'right'][action])\n",
    "            next_state = get_state(game)\n",
    "            if game.nomove:\n",
    "                reward = -20\n",
    "            else:\n",
    "                reward = game.reward\n",
    "            if not game.is_game_over():\n",
    "                replay_memory.append((state, action, reward, next_state))\n",
    "            assert state.shape[1]==80\n",
    "            \"\"\"\n",
    "            with torch.no_grad():\n",
    "                target = reward + gamma*model(next_state).max()*(not game.is_game_over())\n",
    "            \n",
    "            experience_pool.append((state, action, target))\n",
    "            \"\"\"\n",
    "        avgs.append(game.score)\n",
    "        t2 = time.time()\n",
    "    clear_output(wait=True)\n",
    "    plt.plot(avgs)\n",
    "    plt.show()\n",
    "    batch_size = 8192\n",
    "    if len(replay_memory) <= batch_size*3:\n",
    "        continue\n",
    "    \"\"\"\n",
    "    if len(replay_memory) > max_length:\n",
    "        replay_memory.pop(0)\n",
    "    \"\"\"\n",
    "    pool = random.sample(replay_memory, batch_size)\n",
    "    states, actions, rewards, next_states = zip(*pool)\n",
    "    \n",
    "    X = torch.stack(states)\n",
    "    X = X.squeeze(1)\n",
    "    N = torch.stack(next_states).squeeze(1)\n",
    "    y = torch.tensor(rewards, device=device) + gamma*model(N).max()\n",
    "    q_values = model(X)\n",
    "    try:\n",
    "        chosen_q_values = q_values.gather(1, torch.tensor(actions).unsqueeze(1).to(device))\n",
    "    except Exception:\n",
    "        import pdb; pdb.set_trace()\n",
    "    loss = mse_loss(chosen_q_values.squeeze(), y)\n",
    "    optimizer.zero_grad()\n",
    "    loss.backward()\n",
    "    optimizer.step() "
   ]
  },
  {
   "cell_type": "code",
   "execution_count": 129,
   "id": "53f69618-f632-4595-ad8a-be6a7f1c8273",
   "metadata": {
    "tags": []
   },
   "outputs": [
    {
     "data": {
      "text/plain": [
       "\u001b[0;31mSignature:\u001b[0m \u001b[0mrandom\u001b[0m\u001b[0;34m.\u001b[0m\u001b[0msample\u001b[0m\u001b[0;34m(\u001b[0m\u001b[0mpopulation\u001b[0m\u001b[0;34m,\u001b[0m \u001b[0mk\u001b[0m\u001b[0;34m,\u001b[0m \u001b[0;34m*\u001b[0m\u001b[0;34m,\u001b[0m \u001b[0mcounts\u001b[0m\u001b[0;34m=\u001b[0m\u001b[0;32mNone\u001b[0m\u001b[0;34m)\u001b[0m\u001b[0;34m\u001b[0m\u001b[0;34m\u001b[0m\u001b[0m\n",
       "\u001b[0;31mDocstring:\u001b[0m\n",
       "Chooses k unique random elements from a population sequence or set.\n",
       "\n",
       "Returns a new list containing elements from the population while\n",
       "leaving the original population unchanged.  The resulting list is\n",
       "in selection order so that all sub-slices will also be valid random\n",
       "samples.  This allows raffle winners (the sample) to be partitioned\n",
       "into grand prize and second place winners (the subslices).\n",
       "\n",
       "Members of the population need not be hashable or unique.  If the\n",
       "population contains repeats, then each occurrence is a possible\n",
       "selection in the sample.\n",
       "\n",
       "Repeated elements can be specified one at a time or with the optional\n",
       "counts parameter.  For example:\n",
       "\n",
       "    sample(['red', 'blue'], counts=[4, 2], k=5)\n",
       "\n",
       "is equivalent to:\n",
       "\n",
       "    sample(['red', 'red', 'red', 'red', 'blue', 'blue'], k=5)\n",
       "\n",
       "To choose a sample from a range of integers, use range() for the\n",
       "population argument.  This is especially fast and space efficient\n",
       "for sampling from a large population:\n",
       "\n",
       "    sample(range(10000000), 60)\n",
       "\u001b[0;31mFile:\u001b[0m      /opt/anaconda3/envs/deep/lib/python3.10/random.py\n",
       "\u001b[0;31mType:\u001b[0m      method"
      ]
     },
     "metadata": {},
     "output_type": "display_data"
    }
   ],
   "source": [
    "random.sample?"
   ]
  },
  {
   "cell_type": "code",
   "execution_count": null,
   "id": "fb1fc55b-d2eb-4174-9e9e-aebacb9df68f",
   "metadata": {},
   "outputs": [],
   "source": []
  }
 ],
 "metadata": {
  "kernelspec": {
   "display_name": "Python 3 (ipykernel)",
   "language": "python",
   "name": "python3"
  },
  "language_info": {
   "codemirror_mode": {
    "name": "ipython",
    "version": 3
   },
   "file_extension": ".py",
   "mimetype": "text/x-python",
   "name": "python",
   "nbconvert_exporter": "python",
   "pygments_lexer": "ipython3",
   "version": "3.10.18"
  }
 },
 "nbformat": 4,
 "nbformat_minor": 5
}
