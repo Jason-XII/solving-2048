{
 "cells": [
  {
   "cell_type": "markdown",
   "metadata": {},
   "source": [
    "# Solving 2048!\n",
    "\n",
    "> This project aims to achieve a high score in the game of 2048."
   ]
  },
  {
   "cell_type": "markdown",
   "metadata": {},
   "source": [
    "Goals:\n",
    "- Use selenium to open microsoft edge and control the webpage to play the game\n",
    "- Access the game info real-time\n",
    "- Run multiple processes in parallel to speed up data collection\n",
    "- Train the model"
   ]
  },
  {
   "cell_type": "code",
   "execution_count": 1,
   "metadata": {
    "tags": []
   },
   "outputs": [],
   "source": [
    "#| default_exp core"
   ]
  },
  {
   "cell_type": "code",
   "execution_count": 2,
   "metadata": {
    "tags": []
   },
   "outputs": [],
   "source": [
    "#| hide\n",
    "from nbdev.showdoc import *"
   ]
  },
  {
   "cell_type": "code",
   "execution_count": 45,
   "metadata": {},
   "outputs": [],
   "source": [
    "from selenium import webdriver\n",
    "from selenium.webdriver.common.by import By\n",
    "from fastcore.all import *\n",
    "import numpy as np\n",
    "import torch"
   ]
  },
  {
   "cell_type": "code",
   "execution_count": 269,
   "metadata": {
    "tags": []
   },
   "outputs": [],
   "source": [
    "url = \"http://home.ustc.edu.cn/~hejiyan/flxg/\"\n",
    "driver = webdriver.Edge()\n",
    "driver.get(url)"
   ]
  },
  {
   "cell_type": "code",
   "execution_count": 76,
   "metadata": {
    "tags": []
   },
   "outputs": [],
   "source": [
    "tile_container = driver.find_elements(By.CLASS_NAME, 'tile')\n",
    "t = tile_container[0]"
   ]
  },
  {
   "cell_type": "code",
   "execution_count": 77,
   "metadata": {
    "tags": []
   },
   "outputs": [
    {
     "data": {
      "text/plain": [
       "2"
      ]
     },
     "execution_count": 77,
     "metadata": {},
     "output_type": "execute_result"
    }
   ],
   "source": [
    "level = int(t.get_attribute('class').split()[1].split('-')[-1])\n",
    "level"
   ]
  },
  {
   "cell_type": "code",
   "execution_count": 78,
   "metadata": {
    "tags": []
   },
   "outputs": [],
   "source": [
    "position = t.get_attribute('class').split()[2].split('-')[2:]\n",
    "row, col = int(position[1])-1, int(position[0])-1"
   ]
  },
  {
   "cell_type": "code",
   "execution_count": 79,
   "metadata": {
    "tags": []
   },
   "outputs": [
    {
     "data": {
      "text/plain": [
       "(2, 0)"
      ]
     },
     "execution_count": 79,
     "metadata": {},
     "output_type": "execute_result"
    }
   ],
   "source": [
    "row, col"
   ]
  },
  {
   "cell_type": "code",
   "execution_count": 80,
   "metadata": {
    "tags": []
   },
   "outputs": [
    {
     "data": {
      "text/plain": [
       "[[0, 0, 0, 0], [0, 0, 0, 0], [0, 0, 0, 0], [0, 0, 0, 0]]"
      ]
     },
     "execution_count": 80,
     "metadata": {},
     "output_type": "execute_result"
    }
   ],
   "source": [
    "grid = [[0 for i in range(4)] for j in range(4)]\n",
    "grid"
   ]
  },
  {
   "cell_type": "code",
   "execution_count": 81,
   "metadata": {
    "tags": []
   },
   "outputs": [],
   "source": [
    "for each in tile_container:\n",
    "    level = int(each.get_attribute('class').split()[1].split('-')[-1])\n",
    "    position = each.get_attribute('class').split()[2].split('-')[2:]\n",
    "    row, col = int(position[1])-1, int(position[0])-1\n",
    "    level = np.log2(level)\n",
    "    if grid[row][col] <= level:\n",
    "        grid[row][col] = level"
   ]
  },
  {
   "cell_type": "code",
   "execution_count": 82,
   "metadata": {
    "tags": []
   },
   "outputs": [
    {
     "data": {
      "text/plain": [
       "[[0, 0, 0, 0],\n",
       " [0, 0, 0, 0],\n",
       " [np.float64(1.0), 0, 0, np.float64(1.0)],\n",
       " [0, 0, 0, 0]]"
      ]
     },
     "execution_count": 82,
     "metadata": {},
     "output_type": "execute_result"
    }
   ],
   "source": [
    "grid"
   ]
  },
  {
   "cell_type": "code",
   "execution_count": 83,
   "metadata": {
    "tags": []
   },
   "outputs": [],
   "source": [
    "gameover = len(driver.find_elements(By.CLASS_NAME, 'game-over')) != 0"
   ]
  },
  {
   "cell_type": "code",
   "execution_count": 84,
   "metadata": {
    "tags": []
   },
   "outputs": [
    {
     "data": {
      "text/plain": [
       "False"
      ]
     },
     "execution_count": 84,
     "metadata": {},
     "output_type": "execute_result"
    }
   ],
   "source": [
    "gameover"
   ]
  },
  {
   "cell_type": "markdown",
   "metadata": {},
   "source": [
    "### Do the game play automation"
   ]
  },
  {
   "cell_type": "code",
   "execution_count": 96,
   "metadata": {
    "tags": []
   },
   "outputs": [],
   "source": [
    "from selenium.webdriver.common.keys import Keys\n",
    "import random\n",
    "import time"
   ]
  },
  {
   "cell_type": "code",
   "execution_count": 86,
   "metadata": {
    "tags": []
   },
   "outputs": [],
   "source": [
    "keys = [Keys.ARROW_DOWN, Keys.ARROW_LEFT, Keys.ARROW_UP, Keys.ARROW_RIGHT]"
   ]
  },
  {
   "cell_type": "code",
   "execution_count": 97,
   "metadata": {
    "tags": []
   },
   "outputs": [],
   "source": [
    "container = driver.find_element(By.TAG_NAME, 'body')"
   ]
  },
  {
   "cell_type": "code",
   "execution_count": 98,
   "metadata": {
    "tags": []
   },
   "outputs": [],
   "source": [
    "time.sleep(10)\n",
    "while not len(driver.find_elements(By.CLASS_NAME, 'game-over')) != 0:\n",
    "    container.send_keys(random.choice(keys))"
   ]
  },
  {
   "cell_type": "code",
   "execution_count": 94,
   "metadata": {
    "tags": []
   },
   "outputs": [
    {
     "data": {
      "text/plain": [
       "704"
      ]
     },
     "execution_count": 94,
     "metadata": {},
     "output_type": "execute_result"
    }
   ],
   "source": [
    "score = int(driver.find_element(By.CLASS_NAME, 'score-container').text)\n",
    "score"
   ]
  },
  {
   "cell_type": "code",
   "execution_count": 106,
   "metadata": {
    "tags": []
   },
   "outputs": [],
   "source": [
    "def gameplay(delay=10):\n",
    "    url = \"http://home.ustc.edu.cn/~hejiyan/flxg/\"\n",
    "    driver.get(url)\n",
    "    container = driver.find_element(By.TAG_NAME, 'body')\n",
    "    time.sleep(delay)\n",
    "    while not len(driver.find_elements(By.CLASS_NAME, 'game-over')) != 0:\n",
    "        container.send_keys(random.choice(keys))\n",
    "    score = driver.find_element(By.CLASS_NAME, 'score-container').text\n",
    "    if '\\n' in score:\n",
    "        score = score.split('\\n')[0]\n",
    "    score = int(score)\n",
    "    print(\"分数：\",score)"
   ]
  },
  {
   "cell_type": "code",
   "execution_count": 107,
   "metadata": {
    "tags": []
   },
   "outputs": [
    {
     "name": "stdout",
     "output_type": "stream",
     "text": [
      "分数： 568\n",
      "分数： 728\n",
      "分数： 1096\n",
      "分数： 756\n",
      "分数： 808\n",
      "分数： 780\n",
      "分数： 1056\n",
      "分数： 1152\n",
      "分数： 1008\n",
      "分数： 2540\n"
     ]
    }
   ],
   "source": [
    "for i in range(10):\n",
    "    gameplay(0)"
   ]
  },
  {
   "cell_type": "markdown",
   "metadata": {},
   "source": [
    "### Collect Gameplay Data"
   ]
  },
  {
   "cell_type": "code",
   "execution_count": 149,
   "metadata": {
    "tags": []
   },
   "outputs": [],
   "source": [
    "def init_grid():\n",
    "    return [[0.0 for i in range(4)] for j in range(4)]\n",
    "def update_tiles():\n",
    "    grid = init_grid()\n",
    "    tc = driver.find_elements(By.CLASS_NAME, 'tile')\n",
    "    for each in tc:\n",
    "        cls = each.get_attribute('class')\n",
    "        level = int(cls.split()[1].split('-')[-1])\n",
    "        position = cls.split()[2].split('-')[2:]\n",
    "        row, col = int(position[1])-1, int(position[0])-1\n",
    "        level = float(np.log2(level))\n",
    "        if grid[row][col] <= level:\n",
    "            grid[row][col] = level\n",
    "    return grid.copy()\n",
    "def is_game_over():\n",
    "    return len(driver.find_elements(By.CLASS_NAME, 'game-over')) != 0\n",
    "def get_score():\n",
    "    score = driver.find_element(By.CLASS_NAME, 'score-container').text\n",
    "    if '\\n' in score:\n",
    "        score = score.split('\\n')[0]\n",
    "    score = int(score)\n",
    "    return score\n",
    "def refresh(driver):\n",
    "    driver.get(url)"
   ]
  },
  {
   "cell_type": "code",
   "execution_count": 230,
   "metadata": {
    "tags": []
   },
   "outputs": [],
   "source": [
    "def random_key():\n",
    "    return random.choice(keys)\n",
    "def send_random_key():\n",
    "    key = random_key()\n",
    "    container = driver.find_element(By.TAG_NAME, 'body')\n",
    "    container.send_keys(key)\n",
    "    return keys.index(key)\n",
    "def send_key(index):\n",
    "    container = driver.find_element(By.TAG_NAME, 'body')\n",
    "    container.send_keys(keys[index])"
   ]
  },
  {
   "cell_type": "code",
   "execution_count": 160,
   "metadata": {
    "tags": []
   },
   "outputs": [
    {
     "name": "stdout",
     "output_type": "stream",
     "text": [
      "1112\n"
     ]
    }
   ],
   "source": [
    "refresh(driver)\n",
    "states = []\n",
    "actions = []\n",
    "while not is_game_over():\n",
    "    states.append(update_tiles())\n",
    "    actions.append(send_random_key())\n",
    "    time.sleep(0.02)\n",
    "print(get_score())"
   ]
  },
  {
   "cell_type": "code",
   "execution_count": 152,
   "metadata": {
    "tags": []
   },
   "outputs": [
    {
     "data": {
      "text/plain": [
       "151"
      ]
     },
     "execution_count": 152,
     "metadata": {},
     "output_type": "execute_result"
    }
   ],
   "source": [
    "len(states)"
   ]
  },
  {
   "cell_type": "code",
   "execution_count": 162,
   "metadata": {
    "tags": []
   },
   "outputs": [
    {
     "data": {
      "text/plain": [
       "[0, 2, 0, 2, 3, 1, 0, 2, 2, 1]"
      ]
     },
     "execution_count": 162,
     "metadata": {},
     "output_type": "execute_result"
    }
   ],
   "source": [
    "actions[-10:]"
   ]
  },
  {
   "cell_type": "markdown",
   "metadata": {},
   "source": [
    "### Implementing a neural network"
   ]
  },
  {
   "cell_type": "code",
   "execution_count": 163,
   "metadata": {
    "tags": []
   },
   "outputs": [],
   "source": [
    "#| hide\n",
    "import torch\n",
    "import torch.nn as nn\n",
    "import torch.nn.functional as F\n",
    "import torch.optim as optim"
   ]
  },
  {
   "cell_type": "code",
   "execution_count": 264,
   "metadata": {
    "tags": []
   },
   "outputs": [],
   "source": [
    "model = nn.Sequential(\n",
    "    nn.Linear(16, 128),\n",
    "    nn.ReLU(),\n",
    "    nn.Linear(128, 108),\n",
    "    nn.ReLU(),\n",
    "    nn.Linear(108, 64),\n",
    "    nn.ReLU(),\n",
    "    nn.Linear(64, 32),\n",
    "    nn.ReLU(),\n",
    "    nn.Linear(32, 8),\n",
    "    nn.ReLU(),\n",
    "    nn.Linear(8, 4)\n",
    ")"
   ]
  },
  {
   "cell_type": "code",
   "execution_count": 165,
   "metadata": {
    "tags": []
   },
   "outputs": [],
   "source": [
    "def flatten(lst):\n",
    "     return torch.tensor(lst).view(1, 16)"
   ]
  },
  {
   "cell_type": "code",
   "execution_count": 170,
   "metadata": {
    "tags": []
   },
   "outputs": [
    {
     "data": {
      "text/plain": [
       "tensor([[0.2226, 0.2244, 0.2841, 0.2688]], grad_fn=<SoftmaxBackward0>)"
      ]
     },
     "execution_count": 170,
     "metadata": {},
     "output_type": "execute_result"
    }
   ],
   "source": [
    "F.softmax(model(flatten(states[-1])), dim=1)"
   ]
  },
  {
   "cell_type": "code",
   "execution_count": 171,
   "metadata": {
    "tags": []
   },
   "outputs": [],
   "source": [
    "scores = []\n",
    "all_states = []\n",
    "all_actions = []\n",
    "for i in range(10):\n",
    "    refresh(driver)\n",
    "    states = []\n",
    "    actions = []\n",
    "    while not is_game_over():\n",
    "        states.append(update_tiles())\n",
    "        actions.append(send_random_key())\n",
    "        time.sleep(0.02)\n",
    "    scores.append(get_score())\n",
    "    all_states.append(states)\n",
    "    all_actions.append(actions)"
   ]
  },
  {
   "cell_type": "code",
   "execution_count": 172,
   "metadata": {
    "tags": []
   },
   "outputs": [
    {
     "data": {
      "text/plain": [
       "[1424, 636, 488, 1868, 732, 1012, 1336, 1400, 1164, 696]"
      ]
     },
     "execution_count": 172,
     "metadata": {},
     "output_type": "execute_result"
    }
   ],
   "source": [
    "scores"
   ]
  },
  {
   "cell_type": "code",
   "execution_count": 187,
   "metadata": {
    "tags": []
   },
   "outputs": [],
   "source": [
    "X = []\n",
    "y = []\n",
    "targ = np.percentile(scores, 50)"
   ]
  },
  {
   "cell_type": "code",
   "execution_count": 188,
   "metadata": {
    "tags": []
   },
   "outputs": [],
   "source": [
    "for i in range(10):\n",
    "    if scores[i] > targ:\n",
    "        X.extend(all_states[i])\n",
    "        y.extend(all_actions[i])"
   ]
  },
  {
   "cell_type": "code",
   "execution_count": 197,
   "metadata": {
    "tags": []
   },
   "outputs": [
    {
     "data": {
      "text/plain": [
       "(tensor([[0., 0., 1.,  ..., 1., 0., 0.],\n",
       "         [0., 0., 1.,  ..., 0., 0., 1.],\n",
       "         [0., 0., 0.,  ..., 0., 1., 2.],\n",
       "         ...,\n",
       "         [1., 2., 3.,  ..., 7., 1., 2.],\n",
       "         [1., 2., 1.,  ..., 7., 1., 2.],\n",
       "         [2., 1., 2.,  ..., 7., 1., 2.]]),\n",
       " torch.Size([914, 16]))"
      ]
     },
     "execution_count": 197,
     "metadata": {},
     "output_type": "execute_result"
    }
   ],
   "source": [
    "X_train = torch.tensor(X).view(-1, 16)\n",
    "X_train, X_train.shape"
   ]
  },
  {
   "cell_type": "code",
   "execution_count": 202,
   "metadata": {
    "tags": []
   },
   "outputs": [
    {
     "data": {
      "text/plain": [
       "(tensor([[3],\n",
       "         [0],\n",
       "         [2],\n",
       "         [3],\n",
       "         [2],\n",
       "         [1],\n",
       "         [1],\n",
       "         [3],\n",
       "         [2],\n",
       "         [1]]),\n",
       " torch.Size([914, 1]))"
      ]
     },
     "execution_count": 202,
     "metadata": {},
     "output_type": "execute_result"
    }
   ],
   "source": [
    "y_train = torch.tensor(y).view(-1, 1)\n",
    "y_train[:10], y_train.shape"
   ]
  },
  {
   "cell_type": "code",
   "execution_count": 270,
   "metadata": {
    "tags": []
   },
   "outputs": [],
   "source": [
    "optimizer = optim.Adam(model.parameters(), lr=0.01)\n",
    "def nll_loss(pred, goal):\n",
    "    return torch.mean((pred-goal)**2)"
   ]
  },
  {
   "cell_type": "code",
   "execution_count": 216,
   "metadata": {
    "tags": []
   },
   "outputs": [],
   "source": [
    "loss = torch.mean(-torch.log(F.softmax(model(X_train), dim=1).gather(1, y_train)[:5]))\n",
    "loss.backward()"
   ]
  },
  {
   "cell_type": "code",
   "execution_count": 209,
   "metadata": {
    "tags": []
   },
   "outputs": [
    {
     "data": {
      "text/plain": [
       "tensor([[-0.2140,  0.1534,  0.0546,  0.0998],\n",
       "        [-0.2061,  0.1558,  0.0597,  0.1094],\n",
       "        [-0.2398,  0.1856,  0.0360,  0.0989],\n",
       "        ...,\n",
       "        [-0.1910, -0.0025,  0.0620,  0.0805],\n",
       "        [-0.2252,  0.0265,  0.0468,  0.0666],\n",
       "        [-0.2122,  0.0110,  0.0648,  0.0661]], grad_fn=<AddmmBackward0>)"
      ]
     },
     "execution_count": 209,
     "metadata": {},
     "output_type": "execute_result"
    }
   ],
   "source": [
    "model(X_train)"
   ]
  },
  {
   "cell_type": "code",
   "execution_count": 218,
   "metadata": {
    "tags": []
   },
   "outputs": [],
   "source": [
    "optimizer.step()"
   ]
  },
  {
   "cell_type": "code",
   "execution_count": 223,
   "metadata": {
    "tags": []
   },
   "outputs": [],
   "source": [
    "from torch.distributions import Categorical"
   ]
  },
  {
   "cell_type": "code",
   "execution_count": 228,
   "metadata": {
    "tags": []
   },
   "outputs": [
    {
     "data": {
      "text/plain": [
       "tensor([2])"
      ]
     },
     "execution_count": 228,
     "metadata": {},
     "output_type": "execute_result"
    }
   ],
   "source": [
    "probs = F.softmax(model(flatten(states[-1])), dim=1)\n",
    "m = Categorical(probs)\n",
    "m.sample()"
   ]
  },
  {
   "cell_type": "code",
   "execution_count": 229,
   "metadata": {
    "tags": []
   },
   "outputs": [
    {
     "data": {
      "text/plain": [
       "tensor([[0.2062, 0.2503, 0.2737, 0.2699]], grad_fn=<SoftmaxBackward0>)"
      ]
     },
     "execution_count": 229,
     "metadata": {},
     "output_type": "execute_result"
    }
   ],
   "source": [
    "probs"
   ]
  },
  {
   "cell_type": "markdown",
   "metadata": {},
   "source": [
    "### Implement one complete training loop"
   ]
  },
  {
   "cell_type": "code",
   "execution_count": 243,
   "metadata": {
    "tags": []
   },
   "outputs": [
    {
     "ename": "TypeError",
     "evalue": "key_func() missing 1 required positional argument: 'b'",
     "output_type": "error",
     "traceback": [
      "\u001b[0;31m---------------------------------------------------------------------------\u001b[0m",
      "\u001b[0;31mTypeError\u001b[0m                                 Traceback (most recent call last)",
      "Cell \u001b[0;32mIn[243], line 24\u001b[0m\n\u001b[1;32m     22\u001b[0m \u001b[38;5;28;01mdef\u001b[39;00m\u001b[38;5;250m \u001b[39m\u001b[38;5;21mkey_func\u001b[39m(a, b):\n\u001b[1;32m     23\u001b[0m     \u001b[38;5;28;01mreturn\u001b[39;00m a[\u001b[38;5;241m-\u001b[39m\u001b[38;5;241m1\u001b[39m] \u001b[38;5;241m<\u001b[39m b[\u001b[38;5;241m-\u001b[39m\u001b[38;5;241m1\u001b[39m]\n\u001b[0;32m---> 24\u001b[0m \u001b[43mgoats\u001b[49m\u001b[38;5;241;43m.\u001b[39;49m\u001b[43msort\u001b[49m\u001b[43m(\u001b[49m\u001b[43mkey\u001b[49m\u001b[38;5;241;43m=\u001b[39;49m\u001b[43mkey_func\u001b[49m\u001b[43m)\u001b[49m\n\u001b[1;32m     25\u001b[0m \u001b[38;5;28;01mif\u001b[39;00m goats[\u001b[38;5;241m0\u001b[39m][\u001b[38;5;241m-\u001b[39m\u001b[38;5;241m1\u001b[39m] \u001b[38;5;241m<\u001b[39m scores[\u001b[38;5;241m-\u001b[39m\u001b[38;5;241m1\u001b[39m]:\n\u001b[1;32m     26\u001b[0m     goats[\u001b[38;5;241m0\u001b[39m] \u001b[38;5;241m=\u001b[39m (states, actions, scores[\u001b[38;5;241m-\u001b[39m\u001b[38;5;241m1\u001b[39m])\n",
      "\u001b[0;31mTypeError\u001b[0m: key_func() missing 1 required positional argument: 'b'"
     ]
    }
   ],
   "source": [
    "goats = []\n",
    "scores = []\n",
    "all_states = []\n",
    "all_actions = []\n",
    "for i in range(10):\n",
    "    refresh(driver)\n",
    "    states = []\n",
    "    actions = []\n",
    "    data = []\n",
    "    while not is_game_over():\n",
    "        states.append(flatten(update_tiles()))\n",
    "        probs = F.softmax(model(states[-1]), dim=1)\n",
    "        m = Categorical(probs)\n",
    "        action = m.sample()\n",
    "        send_key(action)\n",
    "        actions.append(action)\n",
    "        data.append(states[-1], action)\n",
    "        time.sleep(0.03)\n",
    "\n",
    "    scores.append(get_score())\n",
    "    if len(goats) < 5:\n",
    "        goats.append((states, actions, scores[-1]))\n",
    "    else:\n",
    "        goats.sort(key=lambda x: x[-1])\n",
    "        if goats[0][-1] < scores[-1]:\n",
    "            goats[0] = (states, actions, scores[-1])\n",
    "    all_states.append(states)\n",
    "    all_actions.append(actions)"
   ]
  },
  {
   "cell_type": "code",
   "execution_count": 237,
   "metadata": {
    "tags": []
   },
   "outputs": [
    {
     "data": {
      "text/plain": [
       "tensor(802., dtype=torch.float64)"
      ]
     },
     "execution_count": 237,
     "metadata": {},
     "output_type": "execute_result"
    }
   ],
   "source": [
    "torch.tensor(scores, dtype=float).mean()"
   ]
  },
  {
   "cell_type": "code",
   "execution_count": 234,
   "metadata": {
    "tags": []
   },
   "outputs": [],
   "source": [
    "X = []\n",
    "y = []\n",
    "for i in range(10):\n",
    "    if scores[i] > targ:\n",
    "        X.extend(all_states[i])\n",
    "        y.extend(all_actions[i])\n",
    "X_train = torch.tensor(X).view(-1, 16)\n",
    "y_train = torch.tensor(y).view(-1, 1)\n",
    "for i in range(5):\n",
    "    loss = torch.mean(-torch.log(F.softmax(model(X_train), dim=1).gather(1, y_train)[:5]))\n",
    "    loss.backward()\n",
    "    optimizer.step()"
   ]
  },
  {
   "cell_type": "code",
   "execution_count": 238,
   "metadata": {
    "tags": []
   },
   "outputs": [],
   "source": [
    "import time"
   ]
  },
  {
   "cell_type": "code",
   "execution_count": 266,
   "metadata": {
    "tags": []
   },
   "outputs": [],
   "source": [
    "goats = []"
   ]
  },
  {
   "cell_type": "markdown",
   "metadata": {},
   "source": [
    "### Train for several hours with logging!"
   ]
  },
  {
   "cell_type": "code",
   "execution_count": 271,
   "metadata": {
    "tags": []
   },
   "outputs": [
    {
     "name": "stdout",
     "output_type": "stream",
     "text": [
      "\n",
      "0th epoch. \n",
      "Completed 0th game. Score: 1428.\n",
      "Completed 1th game. Score: 840.\n",
      "Completed 2th game. Score: 1416.\n",
      "Completed 3th game. Score: 1124.\n",
      "Completed 4th game. Score: 900.\n",
      "Completed 5th game. Score: 880.\n",
      "Completed 6th game. Score: 1116.\n",
      "Completed 7th game. Score: 956.\n",
      "Completed 8th game. Score: 872.\n",
      "Completed 9th game. Score: 560.\n",
      "Average score:  tensor(1009.2000, dtype=torch.float64)\n",
      "GOAT score that is going to be learnt:  [2368, 2372, 2380, 2380, 2384, 2392, 2416, 2428, 2824, 2952, 3068]\n",
      "Epoch complete. Time elapsed:  88.53088998794556 s. Total:  88.53138303756714 s.\n",
      "\n",
      "1th epoch. \n"
     ]
    },
    {
     "ename": "KeyboardInterrupt",
     "evalue": "",
     "output_type": "error",
     "traceback": [
      "\u001b[0;31m---------------------------------------------------------------------------\u001b[0m",
      "\u001b[0;31mKeyboardInterrupt\u001b[0m                         Traceback (most recent call last)",
      "Cell \u001b[0;32mIn[271], line 20\u001b[0m\n\u001b[1;32m     18\u001b[0m     send_key(action)\n\u001b[1;32m     19\u001b[0m     actions\u001b[38;5;241m.\u001b[39mappend(action)\n\u001b[0;32m---> 20\u001b[0m     \u001b[43mtime\u001b[49m\u001b[38;5;241;43m.\u001b[39;49m\u001b[43msleep\u001b[49m\u001b[43m(\u001b[49m\u001b[38;5;241;43m0.03\u001b[39;49m\u001b[43m)\u001b[49m\n\u001b[1;32m     21\u001b[0m scores\u001b[38;5;241m.\u001b[39mappend(get_score())\n\u001b[1;32m     22\u001b[0m \u001b[38;5;28mprint\u001b[39m(\u001b[38;5;124mf\u001b[39m\u001b[38;5;124m\"\u001b[39m\u001b[38;5;124mCompleted \u001b[39m\u001b[38;5;132;01m{\u001b[39;00mj\u001b[38;5;132;01m}\u001b[39;00m\u001b[38;5;124mth game. Score: \u001b[39m\u001b[38;5;132;01m{\u001b[39;00mscores[\u001b[38;5;241m-\u001b[39m\u001b[38;5;241m1\u001b[39m]\u001b[38;5;132;01m}\u001b[39;00m\u001b[38;5;124m.\u001b[39m\u001b[38;5;124m\"\u001b[39m)\n",
      "\u001b[0;31mKeyboardInterrupt\u001b[0m: "
     ]
    }
   ],
   "source": [
    "t0 = time.time()\n",
    "for k in range(30):\n",
    "    # 30 epochs, with 10 games per epoch\n",
    "    print(f\"\\n{k}th epoch. \")\n",
    "    t1 = time.time()\n",
    "    scores = []\n",
    "    all_states = []\n",
    "    all_actions = []\n",
    "    for j in range(10):\n",
    "        refresh(driver)\n",
    "        states = []\n",
    "        actions = []\n",
    "        while not is_game_over():\n",
    "            states.append(update_tiles())\n",
    "            probs = F.softmax(model(flatten(states[-1])), dim=1)\n",
    "            m = Categorical(probs)\n",
    "            action = m.sample()\n",
    "            send_key(action)\n",
    "            actions.append(action)\n",
    "            time.sleep(0.03)\n",
    "        scores.append(get_score())\n",
    "        print(f\"Completed {j}th game. Score: {scores[-1]}.\")\n",
    "        if len(goats) <= 10:\n",
    "            goats.append((states, actions, scores[-1]))\n",
    "        else:\n",
    "            goats.sort(key=lambda x: x[-1])\n",
    "            if goats[0][-1] < scores[-1]:\n",
    "                goats[0] = (states, actions, scores[-1])\n",
    "        all_states.append(states)\n",
    "        all_actions.append(actions)\n",
    "    print(\"Average score: \", torch.tensor(scores, dtype=float).mean())\n",
    "    print(\"GOAT score that is going to be learnt: \", [i[-1] for i in goats])\n",
    "    X = []\n",
    "    y = []\n",
    "    for i in range(10):\n",
    "        X.extend(goats[i][0])\n",
    "        y.extend(goats[i][1])\n",
    "    X_train = torch.tensor(X).view(-1, 16)\n",
    "    y_train = torch.tensor(y).view(-1, 1)\n",
    "    for i in range(5):\n",
    "        loss = torch.mean(-torch.log(F.softmax(model(X_train), dim=1).gather(1, y_train)[:5]))\n",
    "        loss.backward()\n",
    "        optimizer.step()\n",
    "    t2 = time.time()\n",
    "    print(\"Epoch complete. Time elapsed: \", t2-t1, \"s. Total: \", t2-t0, \"s.\")"
   ]
  },
  {
   "cell_type": "markdown",
   "metadata": {},
   "source": []
  },
  {
   "cell_type": "code",
   "execution_count": 288,
   "metadata": {
    "tags": []
   },
   "outputs": [
    {
     "data": {
      "text/plain": [
       "tensor([[ 2.3761, -1.9841,  1.9022, -4.5854]], grad_fn=<AddmmBackward0>)"
      ]
     },
     "execution_count": 288,
     "metadata": {},
     "output_type": "execute_result"
    }
   ],
   "source": [
    "model(flatten(states[176]))"
   ]
  },
  {
   "cell_type": "code",
   "execution_count": null,
   "metadata": {
    "tags": []
   },
   "outputs": [],
   "source": [
    "refresh(driver)\n",
    "states = []\n",
    "actions = []\n",
    "while not is_game_over():\n",
    "    states.append(update_tiles())\n",
    "    probs = F.softmax(model(flatten(states[-1])), dim=1)\n",
    "    m = Categorical(probs)\n",
    "    action = m.sample()\n",
    "    send_key(action)\n",
    "    actions.append(action)\n",
    "    time.sleep(1)\n",
    "print(get_score())"
   ]
  },
  {
   "cell_type": "code",
   "execution_count": null,
   "metadata": {},
   "outputs": [],
   "source": []
  },
  {
   "cell_type": "markdown",
   "metadata": {},
   "source": [
    "### Localize"
   ]
  },
  {
   "cell_type": "code",
   "execution_count": 352,
   "metadata": {
    "tags": []
   },
   "outputs": [],
   "source": [
    "a = np.array([[1],[ 2], [3]])\n",
    "b = a.copy()"
   ]
  },
  {
   "cell_type": "code",
   "execution_count": 353,
   "metadata": {
    "tags": []
   },
   "outputs": [],
   "source": [
    "b[0][0]=3"
   ]
  },
  {
   "cell_type": "code",
   "execution_count": 355,
   "metadata": {
    "tags": []
   },
   "outputs": [
    {
     "data": {
      "text/plain": [
       "array([[False],\n",
       "       [ True],\n",
       "       [ True]])"
      ]
     },
     "execution_count": 355,
     "metadata": {},
     "output_type": "execute_result"
    }
   ],
   "source": [
    "a==b"
   ]
  },
  {
   "cell_type": "code",
   "execution_count": 443,
   "metadata": {
    "tags": []
   },
   "outputs": [
    {
     "name": "stdout",
     "output_type": "stream",
     "text": [
      "[[0 0 0 0]\n",
      " [0 0 0 0]\n",
      " [0 0 0 0]\n",
      " [0 2 2 0]]\n"
     ]
    }
   ],
   "source": [
    "import numpy as np\n",
    "import random\n",
    "class Game2048:\n",
    "    def __init__(self):\n",
    "        self.size = 4\n",
    "        self.score = 0\n",
    "        self.board = np.zeros((self.size, self.size), dtype=int)\n",
    "        self.add_new_tile()\n",
    "        self.add_new_tile()\n",
    "        self.nomove = False\n",
    "    def add_new_tile(self):\n",
    "        empty_tiles = list(zip(*np.where(self.board == 0)))\n",
    "        if empty_tiles:\n",
    "            x, y = random.choice(empty_tiles)\n",
    "            self.board[x][y] = 2 if random.random() < 0.9 else 4\n",
    "    def move(self, direction):\n",
    "        self.nomove = False\n",
    "        prev_board = self.board.copy()\n",
    "        if direction == 'down':\n",
    "            self.board = np.rot90(self.board, -1)\n",
    "            self._move_left()\n",
    "            self.board = np.rot90(self.board)\n",
    "        elif direction == 'up':\n",
    "            self.board = np.rot90(self.board, 1)\n",
    "            self._move_left()\n",
    "            self.board = np.rot90(self.board, -1)\n",
    "        elif direction == 'left':\n",
    "            self._move_left()\n",
    "        elif direction == 'right':\n",
    "            self.board = np.fliplr(self.board)\n",
    "            self._move_left()\n",
    "            self.board = np.fliplr(self.board)\n",
    "        self.nomove = np.abs(self.board - prev_board).sum()==0\n",
    "        if self.nomove: return\n",
    "        self.add_new_tile()\n",
    "    def _move_left(self):\n",
    "        self.reward = 0\n",
    "        new_board = np.zeros((self.size, self.size), dtype=int)\n",
    "        for i in range(self.size):\n",
    "            row = self.board[i][self.board[i] != 0]\n",
    "            new_row = []\n",
    "            skip = False\n",
    "            for j in range(len(row)):\n",
    "                if skip:\n",
    "                    skip = False\n",
    "                    continue\n",
    "                if j + 1 < len(row) and row[j] == row[j + 1]:\n",
    "                    new_row.append(row[j] * 2)\n",
    "                    self.score += row[j]*2\n",
    "                    self.reward += row[j]*2\n",
    "                    skip = True\n",
    "                else:\n",
    "                    new_row.append(row[j])\n",
    "            new_board[i, :len(new_row)] = new_row\n",
    "        self.board[:] = new_board\n",
    "        return reward\n",
    "    def is_game_over(self):\n",
    "        if not np.any(self.board == 0):\n",
    "            for i in range(self.size):\n",
    "                for j in range(self.size - 1):\n",
    "                    if self.board[i][j] == self.board[i][j + 1] or \\\n",
    "                        self.board[j][i] == self.board[j + 1][i]:\n",
    "                        return False\n",
    "            return True\n",
    "        return False\n",
    "game = Game2048()\n",
    "print(game.board)"
   ]
  },
  {
   "cell_type": "code",
   "execution_count": 333,
   "metadata": {
    "tags": []
   },
   "outputs": [
    {
     "data": {
      "text/plain": [
       "array([[0, 0, 0, 0],\n",
       "       [0, 0, 0, 0],\n",
       "       [0, 0, 0, 0],\n",
       "       [0, 0, 4, 4]])"
      ]
     },
     "execution_count": 333,
     "metadata": {},
     "output_type": "execute_result"
    }
   ],
   "source": [
    "game.move('down')\n",
    "game.board"
   ]
  },
  {
   "cell_type": "code",
   "execution_count": 342,
   "metadata": {
    "tags": []
   },
   "outputs": [
    {
     "data": {
      "text/plain": [
       "array([[0, 0, 4, 2],\n",
       "       [0, 0, 0, 0],\n",
       "       [0, 0, 0, 0],\n",
       "       [0, 0, 0, 0]])"
      ]
     },
     "execution_count": 342,
     "metadata": {},
     "output_type": "execute_result"
    }
   ],
   "source": [
    "\n",
    "game.board"
   ]
  },
  {
   "cell_type": "code",
   "execution_count": 344,
   "metadata": {
    "tags": []
   },
   "outputs": [],
   "source": [
    "model = nn.Sequential(\n",
    "    nn.Linear(16, 128),\n",
    "    nn.ReLU(),\n",
    "    nn.Linear(128, 108),\n",
    "    nn.ReLU(),\n",
    "    nn.Linear(108, 64),\n",
    "    nn.ReLU(),\n",
    "    nn.Linear(64, 32),\n",
    "    nn.ReLU(),\n",
    "    nn.Linear(32, 8),\n",
    "    nn.ReLU(),\n",
    "    nn.Linear(8, 4)\n",
    ")"
   ]
  },
  {
   "cell_type": "code",
   "execution_count": 346,
   "metadata": {
    "tags": []
   },
   "outputs": [
    {
     "data": {
      "text/plain": [
       "array([[0, 0, 0, 4],\n",
       "       [0, 0, 0, 2],\n",
       "       [0, 0, 0, 0],\n",
       "       [0, 0, 0, 0]])"
      ]
     },
     "execution_count": 346,
     "metadata": {},
     "output_type": "execute_result"
    }
   ],
   "source": [
    "states[-1]"
   ]
  },
  {
   "cell_type": "code",
   "execution_count": 347,
   "metadata": {
    "tags": []
   },
   "outputs": [
    {
     "data": {
      "text/plain": [
       "False"
      ]
     },
     "execution_count": 347,
     "metadata": {},
     "output_type": "execute_result"
    }
   ],
   "source": [
    "game.is_game_over()"
   ]
  },
  {
   "cell_type": "code",
   "execution_count": 405,
   "metadata": {
    "tags": []
   },
   "outputs": [
    {
     "data": {
      "image/png": "[encoded data removed]",
      "text/plain": [
       "<Figure size 640x480 with 1 Axes>"
      ]
     },
     "metadata": {},
     "output_type": "display_data"
    },
    {
     "name": "stdout",
     "output_type": "stream",
     "text": [
      "220th epoch. \n"
     ]
    },
    {
     "ename": "KeyboardInterrupt",
     "evalue": "",
     "output_type": "error",
     "traceback": [
      "\u001b[0;31m---------------------------------------------------------------------------\u001b[0m",
      "\u001b[0;31mKeyboardInterrupt\u001b[0m                         Traceback (most recent call last)",
      "Cell \u001b[0;32mIn[405], line 37\u001b[0m\n\u001b[1;32m     35\u001b[0m states\u001b[38;5;241m.\u001b[39mappend(game\u001b[38;5;241m.\u001b[39mboard\u001b[38;5;241m.\u001b[39mcopy())\n\u001b[1;32m     36\u001b[0m probs \u001b[38;5;241m=\u001b[39m F\u001b[38;5;241m.\u001b[39msoftmax(model(flatten(states[\u001b[38;5;241m-\u001b[39m\u001b[38;5;241m1\u001b[39m])\u001b[38;5;241m.\u001b[39mfloat()), dim\u001b[38;5;241m=\u001b[39m\u001b[38;5;241m1\u001b[39m)\n\u001b[0;32m---> 37\u001b[0m m \u001b[38;5;241m=\u001b[39m \u001b[43mCategorical\u001b[49m\u001b[43m(\u001b[49m\u001b[43mprobs\u001b[49m\u001b[43m)\u001b[49m\n\u001b[1;32m     38\u001b[0m action \u001b[38;5;241m=\u001b[39m m\u001b[38;5;241m.\u001b[39msample()\n\u001b[1;32m     39\u001b[0m action_str \u001b[38;5;241m=\u001b[39m [\u001b[38;5;124m'\u001b[39m\u001b[38;5;124mdown\u001b[39m\u001b[38;5;124m'\u001b[39m, \u001b[38;5;124m'\u001b[39m\u001b[38;5;124mleft\u001b[39m\u001b[38;5;124m'\u001b[39m, \u001b[38;5;124m'\u001b[39m\u001b[38;5;124mup\u001b[39m\u001b[38;5;124m'\u001b[39m, \u001b[38;5;124m'\u001b[39m\u001b[38;5;124mright\u001b[39m\u001b[38;5;124m'\u001b[39m][action]\n",
      "File \u001b[0;32m/opt/anaconda3/envs/deep/lib/python3.10/site-packages/torch/distributions/categorical.py:72\u001b[0m, in \u001b[0;36mCategorical.__init__\u001b[0;34m(self, probs, logits, validate_args)\u001b[0m\n\u001b[1;32m     68\u001b[0m \u001b[38;5;28mself\u001b[39m\u001b[38;5;241m.\u001b[39m_num_events \u001b[38;5;241m=\u001b[39m \u001b[38;5;28mself\u001b[39m\u001b[38;5;241m.\u001b[39m_param\u001b[38;5;241m.\u001b[39msize()[\u001b[38;5;241m-\u001b[39m\u001b[38;5;241m1\u001b[39m]\n\u001b[1;32m     69\u001b[0m batch_shape \u001b[38;5;241m=\u001b[39m (\n\u001b[1;32m     70\u001b[0m     \u001b[38;5;28mself\u001b[39m\u001b[38;5;241m.\u001b[39m_param\u001b[38;5;241m.\u001b[39msize()[:\u001b[38;5;241m-\u001b[39m\u001b[38;5;241m1\u001b[39m] \u001b[38;5;28;01mif\u001b[39;00m \u001b[38;5;28mself\u001b[39m\u001b[38;5;241m.\u001b[39m_param\u001b[38;5;241m.\u001b[39mndimension() \u001b[38;5;241m>\u001b[39m \u001b[38;5;241m1\u001b[39m \u001b[38;5;28;01melse\u001b[39;00m torch\u001b[38;5;241m.\u001b[39mSize()\n\u001b[1;32m     71\u001b[0m )\n\u001b[0;32m---> 72\u001b[0m \u001b[38;5;28;43msuper\u001b[39;49m\u001b[43m(\u001b[49m\u001b[43m)\u001b[49m\u001b[38;5;241;43m.\u001b[39;49m\u001b[38;5;21;43m__init__\u001b[39;49m\u001b[43m(\u001b[49m\u001b[43mbatch_shape\u001b[49m\u001b[43m,\u001b[49m\u001b[43m \u001b[49m\u001b[43mvalidate_args\u001b[49m\u001b[38;5;241;43m=\u001b[39;49m\u001b[43mvalidate_args\u001b[49m\u001b[43m)\u001b[49m\n",
      "File \u001b[0;32m/opt/anaconda3/envs/deep/lib/python3.10/site-packages/torch/distributions/distribution.py:69\u001b[0m, in \u001b[0;36mDistribution.__init__\u001b[0;34m(self, batch_shape, event_shape, validate_args)\u001b[0m\n\u001b[1;32m     67\u001b[0m     \u001b[38;5;28;01mcontinue\u001b[39;00m  \u001b[38;5;66;03m# skip checking lazily-constructed args\u001b[39;00m\n\u001b[1;32m     68\u001b[0m value \u001b[38;5;241m=\u001b[39m \u001b[38;5;28mgetattr\u001b[39m(\u001b[38;5;28mself\u001b[39m, param)\n\u001b[0;32m---> 69\u001b[0m valid \u001b[38;5;241m=\u001b[39m \u001b[43mconstraint\u001b[49m\u001b[38;5;241;43m.\u001b[39;49m\u001b[43mcheck\u001b[49m\u001b[43m(\u001b[49m\u001b[43mvalue\u001b[49m\u001b[43m)\u001b[49m\n\u001b[1;32m     70\u001b[0m \u001b[38;5;28;01mif\u001b[39;00m \u001b[38;5;129;01mnot\u001b[39;00m valid\u001b[38;5;241m.\u001b[39mall():\n\u001b[1;32m     71\u001b[0m     \u001b[38;5;28;01mraise\u001b[39;00m \u001b[38;5;167;01mValueError\u001b[39;00m(\n\u001b[1;32m     72\u001b[0m         \u001b[38;5;124mf\u001b[39m\u001b[38;5;124m\"\u001b[39m\u001b[38;5;124mExpected parameter \u001b[39m\u001b[38;5;132;01m{\u001b[39;00mparam\u001b[38;5;132;01m}\u001b[39;00m\u001b[38;5;124m \u001b[39m\u001b[38;5;124m\"\u001b[39m\n\u001b[1;32m     73\u001b[0m         \u001b[38;5;124mf\u001b[39m\u001b[38;5;124m\"\u001b[39m\u001b[38;5;124m(\u001b[39m\u001b[38;5;132;01m{\u001b[39;00m\u001b[38;5;28mtype\u001b[39m(value)\u001b[38;5;241m.\u001b[39m\u001b[38;5;18m__name__\u001b[39m\u001b[38;5;132;01m}\u001b[39;00m\u001b[38;5;124m of shape \u001b[39m\u001b[38;5;132;01m{\u001b[39;00m\u001b[38;5;28mtuple\u001b[39m(value\u001b[38;5;241m.\u001b[39mshape)\u001b[38;5;132;01m}\u001b[39;00m\u001b[38;5;124m) \u001b[39m\u001b[38;5;124m\"\u001b[39m\n\u001b[0;32m   (...)\u001b[0m\n\u001b[1;32m     76\u001b[0m         \u001b[38;5;124mf\u001b[39m\u001b[38;5;124m\"\u001b[39m\u001b[38;5;124mbut found invalid values:\u001b[39m\u001b[38;5;130;01m\\n\u001b[39;00m\u001b[38;5;132;01m{\u001b[39;00mvalue\u001b[38;5;132;01m}\u001b[39;00m\u001b[38;5;124m\"\u001b[39m\n\u001b[1;32m     77\u001b[0m     )\n",
      "\u001b[0;31mKeyboardInterrupt\u001b[0m: "
     ]
    }
   ],
   "source": [
    "plt.ion()\n",
    "goats = []\n",
    "model = nn.Sequential(\n",
    "    nn.Linear(16, 128),\n",
    "    nn.ReLU(),\n",
    "    nn.Linear(128, 108),\n",
    "    nn.ReLU(),\n",
    "    nn.Linear(108, 84),\n",
    "    nn.ReLU(),\n",
    "    nn.Linear(84, 64),\n",
    "    nn.ReLU(),\n",
    "    nn.Linear(64, 32),\n",
    "    nn.ReLU(),\n",
    "    nn.Linear(32, 8),\n",
    "    nn.ReLU(),\n",
    "    nn.Linear(8, 4)\n",
    ")\n",
    "optimizer = optim.Adam(model.parameters(), lr=0.01)\n",
    "t0 = time.time()\n",
    "epoch_num = []\n",
    "epoch_score = []\n",
    "epoch_var = []\n",
    "for k in range(3000):\n",
    "    # 30 epochs, with 10 games per epoch\n",
    "    print(f\"{k}th epoch. \")\n",
    "    t1 = time.time()\n",
    "    scores = []\n",
    "    all_states = []\n",
    "    all_actions = []\n",
    "    for j in range(500):\n",
    "        game = Game2048()\n",
    "        states = []\n",
    "        actions = []\n",
    "        while not game.is_game_over():\n",
    "            states.append(game.board.copy())\n",
    "            probs = F.softmax(model(flatten(states[-1]).float()), dim=1)\n",
    "            m = Categorical(probs)\n",
    "            action = m.sample()\n",
    "            action_str = ['down', 'left', 'up', 'right'][action]\n",
    "            game.move(action_str)\n",
    "            if game.nomove:\n",
    "                action_str = random.choice(['down', 'left', 'up', 'right'])\n",
    "                game.move(action_str)\n",
    "            actions.append(action)\n",
    "        scores.append(game.score)\n",
    "        \n",
    "        all_states.append(states)\n",
    "        all_actions.append(actions)\n",
    "        \n",
    "    elite = np.percentile(scores, 80)\n",
    "    avg = float(torch.tensor(scores, dtype=float).mean())\n",
    "    var = float(torch.tensor(scores, dtype=float).std())\n",
    "    print(\"Average score: \", avg)\n",
    "    epoch_num.append(k)\n",
    "    epoch_score.append(avg)\n",
    "    epoch_var.append(var)\n",
    "    clear_output(wait=True)\n",
    "    plt.plot(epoch_num, epoch_score)\n",
    "    plt.plot(epoch_num, epoch_var)\n",
    "    plt.show()\n",
    "    X = []\n",
    "    y = []\n",
    "    for i in range(100):\n",
    "        if scores[i] > elite:\n",
    "            X.extend(states)\n",
    "            y.extend(actions)\n",
    "    X_train = torch.tensor(X).view(-1, 16)\n",
    "    y_train = torch.tensor(y).view(-1, 1)\n",
    "    loss = torch.mean(-torch.log(F.softmax(model(X_train.float()), dim=1).gather(1, y_train)[:5]))\n",
    "    loss.backward()\n",
    "    optimizer.step()\n",
    "    t2 = time.time()"
   ]
  },
  {
   "cell_type": "code",
   "execution_count": 376,
   "metadata": {
    "tags": []
   },
   "outputs": [
    {
     "data": {
      "text/plain": [
       "np.float64(6.5)"
      ]
     },
     "execution_count": 376,
     "metadata": {},
     "output_type": "execute_result"
    }
   ],
   "source": [
    "np.percentile([2, 3, 5, 6, 7, 8], 70)"
   ]
  },
  {
   "cell_type": "code",
   "execution_count": 397,
   "metadata": {
    "tags": []
   },
   "outputs": [
    {
     "data": {
      "image/png": "[encoded data removed]",
      "text/plain": [
       "<Figure size 600x400 with 1 Axes>"
      ]
     },
     "metadata": {},
     "output_type": "display_data"
    }
   ],
   "source": [
    "import matplotlib.pyplot as plt\n",
    "import numpy as np\n",
    "import time\n",
    "from IPython.display import clear_output\n",
    "\n",
    "x, y = [], []\n",
    "plt.ion()  # 打开交互模式\n",
    "\n",
    "for i in range(50):\n",
    "    print(i)\n",
    "    x.append(i)\n",
    "    y.append(np.sin(i/5))\n",
    "    clear_output(wait=True)\n",
    "    plt.figure(figsize=(6,4))\n",
    "    plt.plot(x, y, marker='o')\n",
    "    plt.title(\"动态绘图示例\")\n",
    "    plt.show()\n"
   ]
  },
  {
   "cell_type": "code",
   "execution_count": 362,
   "metadata": {
    "tags": []
   },
   "outputs": [
    {
     "data": {
      "text/plain": [
       "tensor([[ 0,  0,  2,  ...,  0,  0,  0],\n",
       "        [ 4,  0,  0,  ...,  2,  0,  0],\n",
       "        [ 0,  0,  0,  ...,  2,  0,  0],\n",
       "        ...,\n",
       "        [ 4,  2,  4,  ...,  8, 64,  2],\n",
       "        [ 4,  2,  4,  ...,  8, 64,  2],\n",
       "        [ 4,  2,  4,  ...,  8, 64,  2]])"
      ]
     },
     "execution_count": 362,
     "metadata": {},
     "output_type": "execute_result"
    }
   ],
   "source": [
    "X_train"
   ]
  },
  {
   "cell_type": "markdown",
   "metadata": {},
   "source": [
    "### Policy Gradient\n",
    "\n",
    "It seems that using the cross entropy method doesn't train well. \n",
    "\n",
    "I need to rewrite the data collection part."
   ]
  },
  {
   "cell_type": "code",
   "execution_count": 259,
   "metadata": {
    "tags": []
   },
   "outputs": [
    {
     "data": {
      "text/plain": [
       "tensor([[ 0.2096, -0.5115,  0.1361, -0.7855]], grad_fn=<AddmmBackward0>)"
      ]
     },
     "execution_count": 259,
     "metadata": {},
     "output_type": "execute_result"
    }
   ],
   "source": [
    "model(flatten(states[1])) # 下左上右"
   ]
  },
  {
   "cell_type": "code",
   "execution_count": 499,
   "metadata": {
    "tags": []
   },
   "outputs": [],
   "source": [
    "\n",
    "model = nn.Sequential(\n",
    "    nn.Linear(16, 128),\n",
    "    nn.ReLU(),\n",
    "    nn.Linear(128, 64),\n",
    "    nn.ReLU(),\n",
    "    nn.Linear(64, 32),\n",
    "    nn.ReLU(),\n",
    "    nn.Linear(32, 8),\n",
    "    nn.ReLU(),\n",
    "    nn.Linear(8, 4)\n",
    ")"
   ]
  },
  {
   "cell_type": "code",
   "execution_count": 505,
   "metadata": {
    "tags": []
   },
   "outputs": [],
   "source": [
    "game = Game2048()\n",
    "experiences = []\n",
    "while not game.is_game_over():\n",
    "    game_prev = flatten(game.board.copy()).float().log1p()\n",
    "    #import pdb;pdb.set_trace()\n",
    "    probs = F.softmax(model(game_prev), dim=1)\n",
    "    m = Categorical(probs)\n",
    "    action = m.sample()\n",
    "    action_str = ['down', 'left', 'up', 'right'][action]\n",
    "    game.move(action_str)\n",
    "    reward = game.reward\n",
    "    game_after = flatten(game.board.copy()).float().log1p()\n",
    "    experiences.append((game_prev, action, m.log_prob(action), reward, game_after))"
   ]
  },
  {
   "cell_type": "code",
   "execution_count": 420,
   "metadata": {
    "tags": []
   },
   "outputs": [],
   "source": [
    "real_rewards = []\n",
    "cumu = 0\n",
    "discount = 0.99\n",
    "for i in experiences[::-1]:\n",
    "    cumu += i[3]*discount\n",
    "    real_rewards.insert(0, cumu)"
   ]
  },
  {
   "cell_type": "code",
   "execution_count": 424,
   "metadata": {
    "tags": []
   },
   "outputs": [
    {
     "data": {
      "text/plain": [
       "tensor([-1.3613], grad_fn=<SqueezeBackward1>)"
      ]
     },
     "execution_count": 424,
     "metadata": {},
     "output_type": "execute_result"
    }
   ],
   "source": [
    "experiences[0][2]"
   ]
  },
  {
   "cell_type": "code",
   "execution_count": 425,
   "metadata": {
    "tags": []
   },
   "outputs": [],
   "source": [
    "losses = []\n",
    "for i in range(len(experiences)):\n",
    "    losses.append(-experiences[i][2]*real_rewards[i])"
   ]
  },
  {
   "cell_type": "code",
   "execution_count": 430,
   "metadata": {
    "tags": []
   },
   "outputs": [],
   "source": [
    "loss = torch.stack(losses).sum()\n",
    "loss.backward()"
   ]
  },
  {
   "cell_type": "markdown",
   "metadata": {},
   "source": [
    "Putting it all together:"
   ]
  },
  {
   "cell_type": "code",
   "execution_count": 507,
   "metadata": {
    "tags": []
   },
   "outputs": [
    {
     "data": {
      "image/png": "[encoded data removed]",
      "text/plain": [
       "<Figure size 640x480 with 1 Axes>"
      ]
     },
     "metadata": {},
     "output_type": "display_data"
    },
    {
     "ename": "KeyboardInterrupt",
     "evalue": "",
     "output_type": "error",
     "traceback": [
      "\u001b[0;31m---------------------------------------------------------------------------\u001b[0m",
      "\u001b[0;31mKeyboardInterrupt\u001b[0m                         Traceback (most recent call last)",
      "Cell \u001b[0;32mIn[507], line 12\u001b[0m\n\u001b[1;32m     10\u001b[0m max_repeat \u001b[38;5;241m=\u001b[39m \u001b[38;5;28mmax\u001b[39m([repeat, max_repeat])\n\u001b[1;32m     11\u001b[0m game_prev \u001b[38;5;241m=\u001b[39m flatten(game\u001b[38;5;241m.\u001b[39mboard\u001b[38;5;241m.\u001b[39mcopy())\u001b[38;5;241m.\u001b[39mfloat()\u001b[38;5;241m.\u001b[39mlog1p()\n\u001b[0;32m---> 12\u001b[0m probs \u001b[38;5;241m=\u001b[39m F\u001b[38;5;241m.\u001b[39msoftmax(\u001b[43mmodel\u001b[49m\u001b[43m(\u001b[49m\u001b[43mgame_prev\u001b[49m\u001b[43m)\u001b[49m, dim\u001b[38;5;241m=\u001b[39m\u001b[38;5;241m1\u001b[39m)\n\u001b[1;32m     13\u001b[0m m \u001b[38;5;241m=\u001b[39m Categorical(probs)\n\u001b[1;32m     14\u001b[0m \u001b[38;5;250m\u001b[39m\u001b[38;5;124;03m\"\"\"\u001b[39;00m\n\u001b[1;32m     15\u001b[0m \u001b[38;5;124;03mif repeat >= 2:\u001b[39;00m\n\u001b[1;32m     16\u001b[0m \u001b[38;5;124;03m    action = random.choice([0,1,2,3])\u001b[39;00m\n\u001b[1;32m     17\u001b[0m \u001b[38;5;124;03m    prob = torch.log(torch.tensor([0.25]))\u001b[39;00m\n\u001b[1;32m     18\u001b[0m \u001b[38;5;124;03melse:    \u001b[39;00m\n\u001b[1;32m     19\u001b[0m \u001b[38;5;124;03m\"\"\"\u001b[39;00m\n",
      "File \u001b[0;32m/opt/anaconda3/envs/deep/lib/python3.10/site-packages/torch/nn/modules/module.py:1736\u001b[0m, in \u001b[0;36mModule._wrapped_call_impl\u001b[0;34m(self, *args, **kwargs)\u001b[0m\n\u001b[1;32m   1734\u001b[0m     \u001b[38;5;28;01mreturn\u001b[39;00m \u001b[38;5;28mself\u001b[39m\u001b[38;5;241m.\u001b[39m_compiled_call_impl(\u001b[38;5;241m*\u001b[39margs, \u001b[38;5;241m*\u001b[39m\u001b[38;5;241m*\u001b[39mkwargs)  \u001b[38;5;66;03m# type: ignore[misc]\u001b[39;00m\n\u001b[1;32m   1735\u001b[0m \u001b[38;5;28;01melse\u001b[39;00m:\n\u001b[0;32m-> 1736\u001b[0m     \u001b[38;5;28;01mreturn\u001b[39;00m \u001b[38;5;28;43mself\u001b[39;49m\u001b[38;5;241;43m.\u001b[39;49m\u001b[43m_call_impl\u001b[49m\u001b[43m(\u001b[49m\u001b[38;5;241;43m*\u001b[39;49m\u001b[43margs\u001b[49m\u001b[43m,\u001b[49m\u001b[43m \u001b[49m\u001b[38;5;241;43m*\u001b[39;49m\u001b[38;5;241;43m*\u001b[39;49m\u001b[43mkwargs\u001b[49m\u001b[43m)\u001b[49m\n",
      "File \u001b[0;32m/opt/anaconda3/envs/deep/lib/python3.10/site-packages/torch/nn/modules/module.py:1747\u001b[0m, in \u001b[0;36mModule._call_impl\u001b[0;34m(self, *args, **kwargs)\u001b[0m\n\u001b[1;32m   1742\u001b[0m \u001b[38;5;66;03m# If we don't have any hooks, we want to skip the rest of the logic in\u001b[39;00m\n\u001b[1;32m   1743\u001b[0m \u001b[38;5;66;03m# this function, and just call forward.\u001b[39;00m\n\u001b[1;32m   1744\u001b[0m \u001b[38;5;28;01mif\u001b[39;00m \u001b[38;5;129;01mnot\u001b[39;00m (\u001b[38;5;28mself\u001b[39m\u001b[38;5;241m.\u001b[39m_backward_hooks \u001b[38;5;129;01mor\u001b[39;00m \u001b[38;5;28mself\u001b[39m\u001b[38;5;241m.\u001b[39m_backward_pre_hooks \u001b[38;5;129;01mor\u001b[39;00m \u001b[38;5;28mself\u001b[39m\u001b[38;5;241m.\u001b[39m_forward_hooks \u001b[38;5;129;01mor\u001b[39;00m \u001b[38;5;28mself\u001b[39m\u001b[38;5;241m.\u001b[39m_forward_pre_hooks\n\u001b[1;32m   1745\u001b[0m         \u001b[38;5;129;01mor\u001b[39;00m _global_backward_pre_hooks \u001b[38;5;129;01mor\u001b[39;00m _global_backward_hooks\n\u001b[1;32m   1746\u001b[0m         \u001b[38;5;129;01mor\u001b[39;00m _global_forward_hooks \u001b[38;5;129;01mor\u001b[39;00m _global_forward_pre_hooks):\n\u001b[0;32m-> 1747\u001b[0m     \u001b[38;5;28;01mreturn\u001b[39;00m \u001b[43mforward_call\u001b[49m\u001b[43m(\u001b[49m\u001b[38;5;241;43m*\u001b[39;49m\u001b[43margs\u001b[49m\u001b[43m,\u001b[49m\u001b[43m \u001b[49m\u001b[38;5;241;43m*\u001b[39;49m\u001b[38;5;241;43m*\u001b[39;49m\u001b[43mkwargs\u001b[49m\u001b[43m)\u001b[49m\n\u001b[1;32m   1749\u001b[0m result \u001b[38;5;241m=\u001b[39m \u001b[38;5;28;01mNone\u001b[39;00m\n\u001b[1;32m   1750\u001b[0m called_always_called_hooks \u001b[38;5;241m=\u001b[39m \u001b[38;5;28mset\u001b[39m()\n",
      "File \u001b[0;32m/opt/anaconda3/envs/deep/lib/python3.10/site-packages/torch/nn/modules/container.py:250\u001b[0m, in \u001b[0;36mSequential.forward\u001b[0;34m(self, input)\u001b[0m\n\u001b[1;32m    248\u001b[0m \u001b[38;5;28;01mdef\u001b[39;00m\u001b[38;5;250m \u001b[39m\u001b[38;5;21mforward\u001b[39m(\u001b[38;5;28mself\u001b[39m, \u001b[38;5;28minput\u001b[39m):\n\u001b[1;32m    249\u001b[0m     \u001b[38;5;28;01mfor\u001b[39;00m module \u001b[38;5;129;01min\u001b[39;00m \u001b[38;5;28mself\u001b[39m:\n\u001b[0;32m--> 250\u001b[0m         \u001b[38;5;28minput\u001b[39m \u001b[38;5;241m=\u001b[39m \u001b[43mmodule\u001b[49m\u001b[43m(\u001b[49m\u001b[38;5;28;43minput\u001b[39;49m\u001b[43m)\u001b[49m\n\u001b[1;32m    251\u001b[0m     \u001b[38;5;28;01mreturn\u001b[39;00m \u001b[38;5;28minput\u001b[39m\n",
      "File \u001b[0;32m/opt/anaconda3/envs/deep/lib/python3.10/site-packages/torch/nn/modules/module.py:1736\u001b[0m, in \u001b[0;36mModule._wrapped_call_impl\u001b[0;34m(self, *args, **kwargs)\u001b[0m\n\u001b[1;32m   1734\u001b[0m     \u001b[38;5;28;01mreturn\u001b[39;00m \u001b[38;5;28mself\u001b[39m\u001b[38;5;241m.\u001b[39m_compiled_call_impl(\u001b[38;5;241m*\u001b[39margs, \u001b[38;5;241m*\u001b[39m\u001b[38;5;241m*\u001b[39mkwargs)  \u001b[38;5;66;03m# type: ignore[misc]\u001b[39;00m\n\u001b[1;32m   1735\u001b[0m \u001b[38;5;28;01melse\u001b[39;00m:\n\u001b[0;32m-> 1736\u001b[0m     \u001b[38;5;28;01mreturn\u001b[39;00m \u001b[38;5;28;43mself\u001b[39;49m\u001b[38;5;241;43m.\u001b[39;49m\u001b[43m_call_impl\u001b[49m\u001b[43m(\u001b[49m\u001b[38;5;241;43m*\u001b[39;49m\u001b[43margs\u001b[49m\u001b[43m,\u001b[49m\u001b[43m \u001b[49m\u001b[38;5;241;43m*\u001b[39;49m\u001b[38;5;241;43m*\u001b[39;49m\u001b[43mkwargs\u001b[49m\u001b[43m)\u001b[49m\n",
      "File \u001b[0;32m/opt/anaconda3/envs/deep/lib/python3.10/site-packages/torch/nn/modules/module.py:1747\u001b[0m, in \u001b[0;36mModule._call_impl\u001b[0;34m(self, *args, **kwargs)\u001b[0m\n\u001b[1;32m   1742\u001b[0m \u001b[38;5;66;03m# If we don't have any hooks, we want to skip the rest of the logic in\u001b[39;00m\n\u001b[1;32m   1743\u001b[0m \u001b[38;5;66;03m# this function, and just call forward.\u001b[39;00m\n\u001b[1;32m   1744\u001b[0m \u001b[38;5;28;01mif\u001b[39;00m \u001b[38;5;129;01mnot\u001b[39;00m (\u001b[38;5;28mself\u001b[39m\u001b[38;5;241m.\u001b[39m_backward_hooks \u001b[38;5;129;01mor\u001b[39;00m \u001b[38;5;28mself\u001b[39m\u001b[38;5;241m.\u001b[39m_backward_pre_hooks \u001b[38;5;129;01mor\u001b[39;00m \u001b[38;5;28mself\u001b[39m\u001b[38;5;241m.\u001b[39m_forward_hooks \u001b[38;5;129;01mor\u001b[39;00m \u001b[38;5;28mself\u001b[39m\u001b[38;5;241m.\u001b[39m_forward_pre_hooks\n\u001b[1;32m   1745\u001b[0m         \u001b[38;5;129;01mor\u001b[39;00m _global_backward_pre_hooks \u001b[38;5;129;01mor\u001b[39;00m _global_backward_hooks\n\u001b[1;32m   1746\u001b[0m         \u001b[38;5;129;01mor\u001b[39;00m _global_forward_hooks \u001b[38;5;129;01mor\u001b[39;00m _global_forward_pre_hooks):\n\u001b[0;32m-> 1747\u001b[0m     \u001b[38;5;28;01mreturn\u001b[39;00m \u001b[43mforward_call\u001b[49m\u001b[43m(\u001b[49m\u001b[38;5;241;43m*\u001b[39;49m\u001b[43margs\u001b[49m\u001b[43m,\u001b[49m\u001b[43m \u001b[49m\u001b[38;5;241;43m*\u001b[39;49m\u001b[38;5;241;43m*\u001b[39;49m\u001b[43mkwargs\u001b[49m\u001b[43m)\u001b[49m\n\u001b[1;32m   1749\u001b[0m result \u001b[38;5;241m=\u001b[39m \u001b[38;5;28;01mNone\u001b[39;00m\n\u001b[1;32m   1750\u001b[0m called_always_called_hooks \u001b[38;5;241m=\u001b[39m \u001b[38;5;28mset\u001b[39m()\n",
      "File \u001b[0;32m/opt/anaconda3/envs/deep/lib/python3.10/site-packages/torch/nn/modules/activation.py:133\u001b[0m, in \u001b[0;36mReLU.forward\u001b[0;34m(self, input)\u001b[0m\n\u001b[1;32m    132\u001b[0m \u001b[38;5;28;01mdef\u001b[39;00m\u001b[38;5;250m \u001b[39m\u001b[38;5;21mforward\u001b[39m(\u001b[38;5;28mself\u001b[39m, \u001b[38;5;28minput\u001b[39m: Tensor) \u001b[38;5;241m-\u001b[39m\u001b[38;5;241m>\u001b[39m Tensor:\n\u001b[0;32m--> 133\u001b[0m     \u001b[38;5;28;01mreturn\u001b[39;00m \u001b[43mF\u001b[49m\u001b[38;5;241;43m.\u001b[39;49m\u001b[43mrelu\u001b[49m\u001b[43m(\u001b[49m\u001b[38;5;28;43minput\u001b[39;49m\u001b[43m,\u001b[49m\u001b[43m \u001b[49m\u001b[43minplace\u001b[49m\u001b[38;5;241;43m=\u001b[39;49m\u001b[38;5;28;43mself\u001b[39;49m\u001b[38;5;241;43m.\u001b[39;49m\u001b[43minplace\u001b[49m\u001b[43m)\u001b[49m\n",
      "File \u001b[0;32m/opt/anaconda3/envs/deep/lib/python3.10/site-packages/torch/nn/functional.py:1704\u001b[0m, in \u001b[0;36mrelu\u001b[0;34m(input, inplace)\u001b[0m\n\u001b[1;32m   1702\u001b[0m     result \u001b[38;5;241m=\u001b[39m torch\u001b[38;5;241m.\u001b[39mrelu_(\u001b[38;5;28minput\u001b[39m)\n\u001b[1;32m   1703\u001b[0m \u001b[38;5;28;01melse\u001b[39;00m:\n\u001b[0;32m-> 1704\u001b[0m     result \u001b[38;5;241m=\u001b[39m \u001b[43mtorch\u001b[49m\u001b[38;5;241;43m.\u001b[39;49m\u001b[43mrelu\u001b[49m\u001b[43m(\u001b[49m\u001b[38;5;28;43minput\u001b[39;49m\u001b[43m)\u001b[49m\n\u001b[1;32m   1705\u001b[0m \u001b[38;5;28;01mreturn\u001b[39;00m result\n",
      "\u001b[0;31mKeyboardInterrupt\u001b[0m: "
     ]
    }
   ],
   "source": [
    "optimizer = optim.Adam(model.parameters(), lr=0.001)\n",
    "scores = []\n",
    "max_repeat = 0\n",
    "for l in range(2000):\n",
    "    game = Game2048()\n",
    "    experiences = []\n",
    "    repeat = 0\n",
    "    while not game.is_game_over():\n",
    "        repeat += 1\n",
    "        max_repeat = max([repeat, max_repeat])\n",
    "        game_prev = flatten(game.board.copy()).float().log1p()\n",
    "        probs = F.softmax(model(game_prev), dim=1)\n",
    "        m = Categorical(probs)\n",
    "        \"\"\"\n",
    "        if repeat >= 2:\n",
    "            action = random.choice([0,1,2,3])\n",
    "            prob = torch.log(torch.tensor([0.25]))\n",
    "        else:    \n",
    "        \"\"\"\n",
    "        action = m.sample()\n",
    "        prob = m.log_prob(action)\n",
    "        action_str = ['down', 'left', 'up', 'right'][action]\n",
    "        game.move(action_str)\n",
    "        #pdb.set_trace()\n",
    "        reward = game.reward\n",
    "        if game.nomove:\n",
    "            reward = -1000\n",
    "        game_after = flatten(game.board.copy()).float().log1p()\n",
    "        experiences.append((game_prev, action, prob, reward, game_after))\n",
    "    scores.append(game.score)\n",
    "    real_rewards = []\n",
    "    cumu = 0\n",
    "    discount = 1.01\n",
    "    for i in experiences[::-1]:\n",
    "        cumu += i[3]*discount\n",
    "        real_rewards.insert(0, cumu)\n",
    "    real_rewards = [r * 0.01 for r in real_rewards]\n",
    "    losses = []\n",
    "    for i in range(len(experiences)):\n",
    "        losses.append(-experiences[i][2]*real_rewards[i])\n",
    "    loss = torch.stack(losses).sum()\n",
    "    loss.backward()\n",
    "    optimizer.step()\n",
    "    clear_output(wait=True)\n",
    "    if len(scores) > 200:\n",
    "        scores = scores[-200:]\n",
    "    plt.plot(scores)\n",
    "    plt.show()"
   ]
  },
  {
   "cell_type": "code",
   "execution_count": 491,
   "metadata": {
    "tags": []
   },
   "outputs": [
    {
     "ename": "KeyboardInterrupt",
     "evalue": "",
     "output_type": "error",
     "traceback": [
      "\u001b[0;31m---------------------------------------------------------------------------\u001b[0m",
      "\u001b[0;31mKeyboardInterrupt\u001b[0m                         Traceback (most recent call last)",
      "Cell \u001b[0;32mIn[491], line 7\u001b[0m\n\u001b[1;32m      5\u001b[0m game_prev \u001b[38;5;241m=\u001b[39m flatten(game\u001b[38;5;241m.\u001b[39mboard\u001b[38;5;241m.\u001b[39mcopy())\u001b[38;5;241m.\u001b[39mfloat()\n\u001b[1;32m      6\u001b[0m probs \u001b[38;5;241m=\u001b[39m F\u001b[38;5;241m.\u001b[39msoftmax(model(game_prev), dim\u001b[38;5;241m=\u001b[39m\u001b[38;5;241m1\u001b[39m)\n\u001b[0;32m----> 7\u001b[0m m \u001b[38;5;241m=\u001b[39m \u001b[43mCategorical\u001b[49m\u001b[43m(\u001b[49m\u001b[43mprobs\u001b[49m\u001b[43m)\u001b[49m\n\u001b[1;32m      8\u001b[0m action \u001b[38;5;241m=\u001b[39m m\u001b[38;5;241m.\u001b[39msample()\n\u001b[1;32m      9\u001b[0m action_str \u001b[38;5;241m=\u001b[39m [\u001b[38;5;124m'\u001b[39m\u001b[38;5;124mdown\u001b[39m\u001b[38;5;124m'\u001b[39m, \u001b[38;5;124m'\u001b[39m\u001b[38;5;124mleft\u001b[39m\u001b[38;5;124m'\u001b[39m, \u001b[38;5;124m'\u001b[39m\u001b[38;5;124mup\u001b[39m\u001b[38;5;124m'\u001b[39m, \u001b[38;5;124m'\u001b[39m\u001b[38;5;124mright\u001b[39m\u001b[38;5;124m'\u001b[39m][action]\n",
      "File \u001b[0;32m/opt/anaconda3/envs/deep/lib/python3.10/site-packages/torch/distributions/categorical.py:72\u001b[0m, in \u001b[0;36mCategorical.__init__\u001b[0;34m(self, probs, logits, validate_args)\u001b[0m\n\u001b[1;32m     68\u001b[0m \u001b[38;5;28mself\u001b[39m\u001b[38;5;241m.\u001b[39m_num_events \u001b[38;5;241m=\u001b[39m \u001b[38;5;28mself\u001b[39m\u001b[38;5;241m.\u001b[39m_param\u001b[38;5;241m.\u001b[39msize()[\u001b[38;5;241m-\u001b[39m\u001b[38;5;241m1\u001b[39m]\n\u001b[1;32m     69\u001b[0m batch_shape \u001b[38;5;241m=\u001b[39m (\n\u001b[1;32m     70\u001b[0m     \u001b[38;5;28mself\u001b[39m\u001b[38;5;241m.\u001b[39m_param\u001b[38;5;241m.\u001b[39msize()[:\u001b[38;5;241m-\u001b[39m\u001b[38;5;241m1\u001b[39m] \u001b[38;5;28;01mif\u001b[39;00m \u001b[38;5;28mself\u001b[39m\u001b[38;5;241m.\u001b[39m_param\u001b[38;5;241m.\u001b[39mndimension() \u001b[38;5;241m>\u001b[39m \u001b[38;5;241m1\u001b[39m \u001b[38;5;28;01melse\u001b[39;00m torch\u001b[38;5;241m.\u001b[39mSize()\n\u001b[1;32m     71\u001b[0m )\n\u001b[0;32m---> 72\u001b[0m \u001b[38;5;28;43msuper\u001b[39;49m\u001b[43m(\u001b[49m\u001b[43m)\u001b[49m\u001b[38;5;241;43m.\u001b[39;49m\u001b[38;5;21;43m__init__\u001b[39;49m\u001b[43m(\u001b[49m\u001b[43mbatch_shape\u001b[49m\u001b[43m,\u001b[49m\u001b[43m \u001b[49m\u001b[43mvalidate_args\u001b[49m\u001b[38;5;241;43m=\u001b[39;49m\u001b[43mvalidate_args\u001b[49m\u001b[43m)\u001b[49m\n",
      "File \u001b[0;32m/opt/anaconda3/envs/deep/lib/python3.10/site-packages/torch/distributions/distribution.py:70\u001b[0m, in \u001b[0;36mDistribution.__init__\u001b[0;34m(self, batch_shape, event_shape, validate_args)\u001b[0m\n\u001b[1;32m     68\u001b[0m         value \u001b[38;5;241m=\u001b[39m \u001b[38;5;28mgetattr\u001b[39m(\u001b[38;5;28mself\u001b[39m, param)\n\u001b[1;32m     69\u001b[0m         valid \u001b[38;5;241m=\u001b[39m constraint\u001b[38;5;241m.\u001b[39mcheck(value)\n\u001b[0;32m---> 70\u001b[0m         \u001b[38;5;28;01mif\u001b[39;00m \u001b[38;5;129;01mnot\u001b[39;00m \u001b[43mvalid\u001b[49m\u001b[38;5;241;43m.\u001b[39;49m\u001b[43mall\u001b[49m\u001b[43m(\u001b[49m\u001b[43m)\u001b[49m:\n\u001b[1;32m     71\u001b[0m             \u001b[38;5;28;01mraise\u001b[39;00m \u001b[38;5;167;01mValueError\u001b[39;00m(\n\u001b[1;32m     72\u001b[0m                 \u001b[38;5;124mf\u001b[39m\u001b[38;5;124m\"\u001b[39m\u001b[38;5;124mExpected parameter \u001b[39m\u001b[38;5;132;01m{\u001b[39;00mparam\u001b[38;5;132;01m}\u001b[39;00m\u001b[38;5;124m \u001b[39m\u001b[38;5;124m\"\u001b[39m\n\u001b[1;32m     73\u001b[0m                 \u001b[38;5;124mf\u001b[39m\u001b[38;5;124m\"\u001b[39m\u001b[38;5;124m(\u001b[39m\u001b[38;5;132;01m{\u001b[39;00m\u001b[38;5;28mtype\u001b[39m(value)\u001b[38;5;241m.\u001b[39m\u001b[38;5;18m__name__\u001b[39m\u001b[38;5;132;01m}\u001b[39;00m\u001b[38;5;124m of shape \u001b[39m\u001b[38;5;132;01m{\u001b[39;00m\u001b[38;5;28mtuple\u001b[39m(value\u001b[38;5;241m.\u001b[39mshape)\u001b[38;5;132;01m}\u001b[39;00m\u001b[38;5;124m) \u001b[39m\u001b[38;5;124m\"\u001b[39m\n\u001b[0;32m   (...)\u001b[0m\n\u001b[1;32m     76\u001b[0m                 \u001b[38;5;124mf\u001b[39m\u001b[38;5;124m\"\u001b[39m\u001b[38;5;124mbut found invalid values:\u001b[39m\u001b[38;5;130;01m\\n\u001b[39;00m\u001b[38;5;132;01m{\u001b[39;00mvalue\u001b[38;5;132;01m}\u001b[39;00m\u001b[38;5;124m\"\u001b[39m\n\u001b[1;32m     77\u001b[0m             )\n\u001b[1;32m     78\u001b[0m \u001b[38;5;28msuper\u001b[39m()\u001b[38;5;241m.\u001b[39m\u001b[38;5;21m__init__\u001b[39m()\n",
      "\u001b[0;31mKeyboardInterrupt\u001b[0m: "
     ]
    }
   ],
   "source": [
    "scores = 0\n",
    "for i in range(50):\n",
    "    game = Game2048()\n",
    "    while not game.is_game_over():\n",
    "        game_prev = flatten(game.board.copy()).float()\n",
    "        probs = F.softmax(model(game_prev), dim=1)\n",
    "        m = Categorical(probs)\n",
    "        action = m.sample()\n",
    "        action_str = ['down', 'left', 'up', 'right'][action]\n",
    "        game.move(action_str)\n",
    "        reward = game.reward\n",
    "        game_after = game.board.copy()\n",
    "    scores += game.score\n",
    "print(scores/50)"
   ]
  },
  {
   "cell_type": "code",
   "execution_count": 488,
   "metadata": {
    "tags": []
   },
   "outputs": [],
   "source": [
    "class CNN2048(nn.Module):\n",
    "    def __init__(self):\n",
    "        super().__init__()\n",
    "        self.conv1 = nn.Conv2d(1, 32, 3, padding=1)  # 4x4x1 -> 4x4x32\n",
    "        self.conv2 = nn.Conv2d(32, 64, 3, padding=1) # 4x4x32 -> 4x4x64\n",
    "        self.fc = nn.Linear(64*4*4, 4)  # Flatten to 4 actions\n",
    "    \n",
    "    def forward(self, x):\n",
    "        x = x.view(-1, 1, 4, 4)  # Reshape to 4x4 grid\n",
    "        x = F.relu(self.conv1(x))\n",
    "        x = F.relu(self.conv2(x))\n",
    "        x = x.view(x.size(0), -1)  # Flatten\n",
    "        return self.fc(x)"
   ]
  },
  {
   "cell_type": "code",
   "execution_count": 489,
   "metadata": {
    "tags": []
   },
   "outputs": [],
   "source": [
    "model = CNN2048()"
   ]
  },
  {
   "cell_type": "markdown",
   "metadata": {},
   "source": [
    "### Deep Q Networks"
   ]
  },
  {
   "cell_type": "code",
   "execution_count": 579,
   "metadata": {
    "tags": []
   },
   "outputs": [],
   "source": [
    "class FullyConnectedQNetwork(nn.Module):\n",
    "    def __init__(self, nin=80, nout=4):\n",
    "        super().__init__()\n",
    "        self.model = nn.Sequential(\n",
    "            nn.Linear(nin, 192),\n",
    "            nn.ReLU(),\n",
    "            nn.Linear(192, 128),\n",
    "            nn.ReLU(),\n",
    "            nn.Linear(128, 64),\n",
    "            nn.ReLU(),\n",
    "            nn.Linear(64, 64),\n",
    "            nn.ReLU(),\n",
    "            nn.Linear(64, nout)\n",
    "        )\n",
    "    def forward(self, x):\n",
    "        return self.model(x)\n",
    "def mse_loss(pred, goal):\n",
    "    return torch.mean((pred-goal)**2)    "
   ]
  },
  {
   "cell_type": "code",
   "execution_count": 567,
   "metadata": {
    "tags": []
   },
   "outputs": [],
   "source": [
    "model = FullyConnectedQNetwork()\n",
    "optimizer = optim.Adam(model.parameters(), lr=0.001)"
   ]
  },
  {
   "cell_type": "code",
   "execution_count": 587,
   "metadata": {
    "tags": []
   },
   "outputs": [],
   "source": [
    "def get_state(game):\n",
    "    states = []\n",
    "    for move in ['down', 'left', 'up', 'right']:\n",
    "        new_game = Game2048()\n",
    "        new_game.board = game.board.copy()\n",
    "        new_game.move(move)\n",
    "        states.append(flatten(new_game.board.copy()).float().log1p())  \n",
    "    state = flatten(game.board.copy()).float().log1p()\n",
    "    states = [state] + states\n",
    "    new_state = torch.cat(states, dim=1)\n",
    "    return new_state"
   ]
  },
  {
   "cell_type": "code",
   "execution_count": 588,
   "metadata": {
    "tags": []
   },
   "outputs": [
    {
     "ename": "RuntimeError",
     "evalue": "mat1 and mat2 shapes cannot be multiplied (1x80 and 272x324)",
     "output_type": "error",
     "traceback": [
      "\u001b[0;31m---------------------------------------------------------------------------\u001b[0m",
      "\u001b[0;31mRuntimeError\u001b[0m                              Traceback (most recent call last)",
      "Cell \u001b[0;32mIn[588], line 10\u001b[0m\n\u001b[1;32m      8\u001b[0m state \u001b[38;5;241m=\u001b[39m get_state(game)\n\u001b[1;32m      9\u001b[0m \u001b[38;5;28;01mif\u001b[39;00m np\u001b[38;5;241m.\u001b[39mrandom\u001b[38;5;241m.\u001b[39mrand() \u001b[38;5;241m>\u001b[39m \u001b[38;5;241m0.2\u001b[39m:\n\u001b[0;32m---> 10\u001b[0m     action \u001b[38;5;241m=\u001b[39m \u001b[38;5;28mint\u001b[39m(\u001b[43mmodel\u001b[49m\u001b[43m(\u001b[49m\u001b[43mstate\u001b[49m\u001b[43m)\u001b[49m\u001b[38;5;241m.\u001b[39margmax())\n\u001b[1;32m     11\u001b[0m \u001b[38;5;28;01melse\u001b[39;00m:\n\u001b[1;32m     12\u001b[0m     action \u001b[38;5;241m=\u001b[39m random\u001b[38;5;241m.\u001b[39mrandint(\u001b[38;5;241m0\u001b[39m, \u001b[38;5;241m3\u001b[39m)\n",
      "File \u001b[0;32m/opt/anaconda3/envs/deep/lib/python3.10/site-packages/torch/nn/modules/module.py:1736\u001b[0m, in \u001b[0;36mModule._wrapped_call_impl\u001b[0;34m(self, *args, **kwargs)\u001b[0m\n\u001b[1;32m   1734\u001b[0m     \u001b[38;5;28;01mreturn\u001b[39;00m \u001b[38;5;28mself\u001b[39m\u001b[38;5;241m.\u001b[39m_compiled_call_impl(\u001b[38;5;241m*\u001b[39margs, \u001b[38;5;241m*\u001b[39m\u001b[38;5;241m*\u001b[39mkwargs)  \u001b[38;5;66;03m# type: ignore[misc]\u001b[39;00m\n\u001b[1;32m   1735\u001b[0m \u001b[38;5;28;01melse\u001b[39;00m:\n\u001b[0;32m-> 1736\u001b[0m     \u001b[38;5;28;01mreturn\u001b[39;00m \u001b[38;5;28;43mself\u001b[39;49m\u001b[38;5;241;43m.\u001b[39;49m\u001b[43m_call_impl\u001b[49m\u001b[43m(\u001b[49m\u001b[38;5;241;43m*\u001b[39;49m\u001b[43margs\u001b[49m\u001b[43m,\u001b[49m\u001b[43m \u001b[49m\u001b[38;5;241;43m*\u001b[39;49m\u001b[38;5;241;43m*\u001b[39;49m\u001b[43mkwargs\u001b[49m\u001b[43m)\u001b[49m\n",
      "File \u001b[0;32m/opt/anaconda3/envs/deep/lib/python3.10/site-packages/torch/nn/modules/module.py:1747\u001b[0m, in \u001b[0;36mModule._call_impl\u001b[0;34m(self, *args, **kwargs)\u001b[0m\n\u001b[1;32m   1742\u001b[0m \u001b[38;5;66;03m# If we don't have any hooks, we want to skip the rest of the logic in\u001b[39;00m\n\u001b[1;32m   1743\u001b[0m \u001b[38;5;66;03m# this function, and just call forward.\u001b[39;00m\n\u001b[1;32m   1744\u001b[0m \u001b[38;5;28;01mif\u001b[39;00m \u001b[38;5;129;01mnot\u001b[39;00m (\u001b[38;5;28mself\u001b[39m\u001b[38;5;241m.\u001b[39m_backward_hooks \u001b[38;5;129;01mor\u001b[39;00m \u001b[38;5;28mself\u001b[39m\u001b[38;5;241m.\u001b[39m_backward_pre_hooks \u001b[38;5;129;01mor\u001b[39;00m \u001b[38;5;28mself\u001b[39m\u001b[38;5;241m.\u001b[39m_forward_hooks \u001b[38;5;129;01mor\u001b[39;00m \u001b[38;5;28mself\u001b[39m\u001b[38;5;241m.\u001b[39m_forward_pre_hooks\n\u001b[1;32m   1745\u001b[0m         \u001b[38;5;129;01mor\u001b[39;00m _global_backward_pre_hooks \u001b[38;5;129;01mor\u001b[39;00m _global_backward_hooks\n\u001b[1;32m   1746\u001b[0m         \u001b[38;5;129;01mor\u001b[39;00m _global_forward_hooks \u001b[38;5;129;01mor\u001b[39;00m _global_forward_pre_hooks):\n\u001b[0;32m-> 1747\u001b[0m     \u001b[38;5;28;01mreturn\u001b[39;00m \u001b[43mforward_call\u001b[49m\u001b[43m(\u001b[49m\u001b[38;5;241;43m*\u001b[39;49m\u001b[43margs\u001b[49m\u001b[43m,\u001b[49m\u001b[43m \u001b[49m\u001b[38;5;241;43m*\u001b[39;49m\u001b[38;5;241;43m*\u001b[39;49m\u001b[43mkwargs\u001b[49m\u001b[43m)\u001b[49m\n\u001b[1;32m   1749\u001b[0m result \u001b[38;5;241m=\u001b[39m \u001b[38;5;28;01mNone\u001b[39;00m\n\u001b[1;32m   1750\u001b[0m called_always_called_hooks \u001b[38;5;241m=\u001b[39m \u001b[38;5;28mset\u001b[39m()\n",
      "Cell \u001b[0;32mIn[578], line 16\u001b[0m, in \u001b[0;36mFullyConnectedQNetwork.forward\u001b[0;34m(self, x)\u001b[0m\n\u001b[1;32m     15\u001b[0m \u001b[38;5;28;01mdef\u001b[39;00m\u001b[38;5;250m \u001b[39m\u001b[38;5;21mforward\u001b[39m(\u001b[38;5;28mself\u001b[39m, x):\n\u001b[0;32m---> 16\u001b[0m     \u001b[38;5;28;01mreturn\u001b[39;00m \u001b[38;5;28;43mself\u001b[39;49m\u001b[38;5;241;43m.\u001b[39;49m\u001b[43mmodel\u001b[49m\u001b[43m(\u001b[49m\u001b[43mx\u001b[49m\u001b[43m)\u001b[49m\n",
      "File \u001b[0;32m/opt/anaconda3/envs/deep/lib/python3.10/site-packages/torch/nn/modules/module.py:1736\u001b[0m, in \u001b[0;36mModule._wrapped_call_impl\u001b[0;34m(self, *args, **kwargs)\u001b[0m\n\u001b[1;32m   1734\u001b[0m     \u001b[38;5;28;01mreturn\u001b[39;00m \u001b[38;5;28mself\u001b[39m\u001b[38;5;241m.\u001b[39m_compiled_call_impl(\u001b[38;5;241m*\u001b[39margs, \u001b[38;5;241m*\u001b[39m\u001b[38;5;241m*\u001b[39mkwargs)  \u001b[38;5;66;03m# type: ignore[misc]\u001b[39;00m\n\u001b[1;32m   1735\u001b[0m \u001b[38;5;28;01melse\u001b[39;00m:\n\u001b[0;32m-> 1736\u001b[0m     \u001b[38;5;28;01mreturn\u001b[39;00m \u001b[38;5;28;43mself\u001b[39;49m\u001b[38;5;241;43m.\u001b[39;49m\u001b[43m_call_impl\u001b[49m\u001b[43m(\u001b[49m\u001b[38;5;241;43m*\u001b[39;49m\u001b[43margs\u001b[49m\u001b[43m,\u001b[49m\u001b[43m \u001b[49m\u001b[38;5;241;43m*\u001b[39;49m\u001b[38;5;241;43m*\u001b[39;49m\u001b[43mkwargs\u001b[49m\u001b[43m)\u001b[49m\n",
      "File \u001b[0;32m/opt/anaconda3/envs/deep/lib/python3.10/site-packages/torch/nn/modules/module.py:1747\u001b[0m, in \u001b[0;36mModule._call_impl\u001b[0;34m(self, *args, **kwargs)\u001b[0m\n\u001b[1;32m   1742\u001b[0m \u001b[38;5;66;03m# If we don't have any hooks, we want to skip the rest of the logic in\u001b[39;00m\n\u001b[1;32m   1743\u001b[0m \u001b[38;5;66;03m# this function, and just call forward.\u001b[39;00m\n\u001b[1;32m   1744\u001b[0m \u001b[38;5;28;01mif\u001b[39;00m \u001b[38;5;129;01mnot\u001b[39;00m (\u001b[38;5;28mself\u001b[39m\u001b[38;5;241m.\u001b[39m_backward_hooks \u001b[38;5;129;01mor\u001b[39;00m \u001b[38;5;28mself\u001b[39m\u001b[38;5;241m.\u001b[39m_backward_pre_hooks \u001b[38;5;129;01mor\u001b[39;00m \u001b[38;5;28mself\u001b[39m\u001b[38;5;241m.\u001b[39m_forward_hooks \u001b[38;5;129;01mor\u001b[39;00m \u001b[38;5;28mself\u001b[39m\u001b[38;5;241m.\u001b[39m_forward_pre_hooks\n\u001b[1;32m   1745\u001b[0m         \u001b[38;5;129;01mor\u001b[39;00m _global_backward_pre_hooks \u001b[38;5;129;01mor\u001b[39;00m _global_backward_hooks\n\u001b[1;32m   1746\u001b[0m         \u001b[38;5;129;01mor\u001b[39;00m _global_forward_hooks \u001b[38;5;129;01mor\u001b[39;00m _global_forward_pre_hooks):\n\u001b[0;32m-> 1747\u001b[0m     \u001b[38;5;28;01mreturn\u001b[39;00m \u001b[43mforward_call\u001b[49m\u001b[43m(\u001b[49m\u001b[38;5;241;43m*\u001b[39;49m\u001b[43margs\u001b[49m\u001b[43m,\u001b[49m\u001b[43m \u001b[49m\u001b[38;5;241;43m*\u001b[39;49m\u001b[38;5;241;43m*\u001b[39;49m\u001b[43mkwargs\u001b[49m\u001b[43m)\u001b[49m\n\u001b[1;32m   1749\u001b[0m result \u001b[38;5;241m=\u001b[39m \u001b[38;5;28;01mNone\u001b[39;00m\n\u001b[1;32m   1750\u001b[0m called_always_called_hooks \u001b[38;5;241m=\u001b[39m \u001b[38;5;28mset\u001b[39m()\n",
      "File \u001b[0;32m/opt/anaconda3/envs/deep/lib/python3.10/site-packages/torch/nn/modules/container.py:250\u001b[0m, in \u001b[0;36mSequential.forward\u001b[0;34m(self, input)\u001b[0m\n\u001b[1;32m    248\u001b[0m \u001b[38;5;28;01mdef\u001b[39;00m\u001b[38;5;250m \u001b[39m\u001b[38;5;21mforward\u001b[39m(\u001b[38;5;28mself\u001b[39m, \u001b[38;5;28minput\u001b[39m):\n\u001b[1;32m    249\u001b[0m     \u001b[38;5;28;01mfor\u001b[39;00m module \u001b[38;5;129;01min\u001b[39;00m \u001b[38;5;28mself\u001b[39m:\n\u001b[0;32m--> 250\u001b[0m         \u001b[38;5;28minput\u001b[39m \u001b[38;5;241m=\u001b[39m \u001b[43mmodule\u001b[49m\u001b[43m(\u001b[49m\u001b[38;5;28;43minput\u001b[39;49m\u001b[43m)\u001b[49m\n\u001b[1;32m    251\u001b[0m     \u001b[38;5;28;01mreturn\u001b[39;00m \u001b[38;5;28minput\u001b[39m\n",
      "File \u001b[0;32m/opt/anaconda3/envs/deep/lib/python3.10/site-packages/torch/nn/modules/module.py:1736\u001b[0m, in \u001b[0;36mModule._wrapped_call_impl\u001b[0;34m(self, *args, **kwargs)\u001b[0m\n\u001b[1;32m   1734\u001b[0m     \u001b[38;5;28;01mreturn\u001b[39;00m \u001b[38;5;28mself\u001b[39m\u001b[38;5;241m.\u001b[39m_compiled_call_impl(\u001b[38;5;241m*\u001b[39margs, \u001b[38;5;241m*\u001b[39m\u001b[38;5;241m*\u001b[39mkwargs)  \u001b[38;5;66;03m# type: ignore[misc]\u001b[39;00m\n\u001b[1;32m   1735\u001b[0m \u001b[38;5;28;01melse\u001b[39;00m:\n\u001b[0;32m-> 1736\u001b[0m     \u001b[38;5;28;01mreturn\u001b[39;00m \u001b[38;5;28;43mself\u001b[39;49m\u001b[38;5;241;43m.\u001b[39;49m\u001b[43m_call_impl\u001b[49m\u001b[43m(\u001b[49m\u001b[38;5;241;43m*\u001b[39;49m\u001b[43margs\u001b[49m\u001b[43m,\u001b[49m\u001b[43m \u001b[49m\u001b[38;5;241;43m*\u001b[39;49m\u001b[38;5;241;43m*\u001b[39;49m\u001b[43mkwargs\u001b[49m\u001b[43m)\u001b[49m\n",
      "File \u001b[0;32m/opt/anaconda3/envs/deep/lib/python3.10/site-packages/torch/nn/modules/module.py:1747\u001b[0m, in \u001b[0;36mModule._call_impl\u001b[0;34m(self, *args, **kwargs)\u001b[0m\n\u001b[1;32m   1742\u001b[0m \u001b[38;5;66;03m# If we don't have any hooks, we want to skip the rest of the logic in\u001b[39;00m\n\u001b[1;32m   1743\u001b[0m \u001b[38;5;66;03m# this function, and just call forward.\u001b[39;00m\n\u001b[1;32m   1744\u001b[0m \u001b[38;5;28;01mif\u001b[39;00m \u001b[38;5;129;01mnot\u001b[39;00m (\u001b[38;5;28mself\u001b[39m\u001b[38;5;241m.\u001b[39m_backward_hooks \u001b[38;5;129;01mor\u001b[39;00m \u001b[38;5;28mself\u001b[39m\u001b[38;5;241m.\u001b[39m_backward_pre_hooks \u001b[38;5;129;01mor\u001b[39;00m \u001b[38;5;28mself\u001b[39m\u001b[38;5;241m.\u001b[39m_forward_hooks \u001b[38;5;129;01mor\u001b[39;00m \u001b[38;5;28mself\u001b[39m\u001b[38;5;241m.\u001b[39m_forward_pre_hooks\n\u001b[1;32m   1745\u001b[0m         \u001b[38;5;129;01mor\u001b[39;00m _global_backward_pre_hooks \u001b[38;5;129;01mor\u001b[39;00m _global_backward_hooks\n\u001b[1;32m   1746\u001b[0m         \u001b[38;5;129;01mor\u001b[39;00m _global_forward_hooks \u001b[38;5;129;01mor\u001b[39;00m _global_forward_pre_hooks):\n\u001b[0;32m-> 1747\u001b[0m     \u001b[38;5;28;01mreturn\u001b[39;00m \u001b[43mforward_call\u001b[49m\u001b[43m(\u001b[49m\u001b[38;5;241;43m*\u001b[39;49m\u001b[43margs\u001b[49m\u001b[43m,\u001b[49m\u001b[43m \u001b[49m\u001b[38;5;241;43m*\u001b[39;49m\u001b[38;5;241;43m*\u001b[39;49m\u001b[43mkwargs\u001b[49m\u001b[43m)\u001b[49m\n\u001b[1;32m   1749\u001b[0m result \u001b[38;5;241m=\u001b[39m \u001b[38;5;28;01mNone\u001b[39;00m\n\u001b[1;32m   1750\u001b[0m called_always_called_hooks \u001b[38;5;241m=\u001b[39m \u001b[38;5;28mset\u001b[39m()\n",
      "File \u001b[0;32m/opt/anaconda3/envs/deep/lib/python3.10/site-packages/torch/nn/modules/linear.py:125\u001b[0m, in \u001b[0;36mLinear.forward\u001b[0;34m(self, input)\u001b[0m\n\u001b[1;32m    124\u001b[0m \u001b[38;5;28;01mdef\u001b[39;00m\u001b[38;5;250m \u001b[39m\u001b[38;5;21mforward\u001b[39m(\u001b[38;5;28mself\u001b[39m, \u001b[38;5;28minput\u001b[39m: Tensor) \u001b[38;5;241m-\u001b[39m\u001b[38;5;241m>\u001b[39m Tensor:\n\u001b[0;32m--> 125\u001b[0m     \u001b[38;5;28;01mreturn\u001b[39;00m \u001b[43mF\u001b[49m\u001b[38;5;241;43m.\u001b[39;49m\u001b[43mlinear\u001b[49m\u001b[43m(\u001b[49m\u001b[38;5;28;43minput\u001b[39;49m\u001b[43m,\u001b[49m\u001b[43m \u001b[49m\u001b[38;5;28;43mself\u001b[39;49m\u001b[38;5;241;43m.\u001b[39;49m\u001b[43mweight\u001b[49m\u001b[43m,\u001b[49m\u001b[43m \u001b[49m\u001b[38;5;28;43mself\u001b[39;49m\u001b[38;5;241;43m.\u001b[39;49m\u001b[43mbias\u001b[49m\u001b[43m)\u001b[49m\n",
      "\u001b[0;31mRuntimeError\u001b[0m: mat1 and mat2 shapes cannot be multiplied (1x80 and 272x324)"
     ]
    }
   ],
   "source": [
    "total_reward = 0\n",
    "done = False\n",
    "game = Game2048()\n",
    "\n",
    "gamma = 0.99\n",
    "experience_pool = []\n",
    "while not game.is_game_over():\n",
    "    state = get_state(game)\n",
    "    if np.random.rand() > 0.2:\n",
    "        action = int(model(state).argmax())\n",
    "    else:\n",
    "        action = random.randint(0, 3)\n",
    "    game.move(['down', 'left', 'up', 'right'][action])\n",
    "    next_state = get_state(game)\n",
    "    if game.nomove:\n",
    "        reward = -100\n",
    "    else:\n",
    "        reward = game.reward\n",
    "    with torch.no_grad():\n",
    "        target = reward + gamma*model(next_state).max()*(not game.is_game_over())\n",
    "    experience_pool.append((state, action, target))"
   ]
  },
  {
   "cell_type": "code",
   "execution_count": 598,
   "metadata": {
    "tags": []
   },
   "outputs": [],
   "source": [
    "random.shuffle(experience_pool)\n",
    "batch_size = 32\n",
    "for k in range(0, len(experience_pool), batch_size):\n",
    "    states, actions, targets = zip(*experience_pool[k:k+batch_size])\n",
    "    X = torch.stack(states)\n",
    "    y = torch.stack(targets)\n",
    "    q_values = model(X).squeeze()\n",
    "    #pdb.set_trace()\n",
    "    chosen_q_values = q_values.gather(1, torch.tensor(actions).unsqueeze(1))\n",
    "    loss = mse_loss(chosen_q_values.squeeze(), y)\n",
    "    optimizer.zero_grad()\n",
    "    loss.backward()\n",
    "    optimizer.step()\n",
    "def get_state(game):\n",
    "    states = []\n",
    "    for move in ['down', 'left', 'up', 'right']:\n",
    "        new_game = Game2048()\n",
    "        new_game.board = game.board.copy()\n",
    "        new_game.move(move)\n",
    "        states.append(flatten(new_game.board.copy()).float().log1p())  \n",
    "    for move in ['down', 'left', 'up', 'right']:\n",
    "        new_game = Game2048()\n",
    "        new_game.board = game.board.copy()\n",
    "        new_game.move(move)\n",
    "        states.append(flatten(new_game.board.copy()).float().log1p())\n",
    "    state = flatten(game.board.copy()).float().log1p()\n",
    "    states = [state] + states\n",
    "    new_state = torch.cat(states, dim=1)\n",
    "    return new_state"
   ]
  },
  {
   "cell_type": "code",
   "execution_count": 599,
   "metadata": {
    "tags": []
   },
   "outputs": [],
   "source": [
    "class FullyConnectedQNetwork(nn.Module):\n",
    "    def __init__(self, nin=144, nout=4):\n",
    "        super().__init__()\n",
    "        self.model = nn.Sequential(\n",
    "            nn.Linear(nin, 192),\n",
    "            nn.ReLU(),\n",
    "            nn.Linear(192, 128),\n",
    "            nn.ReLU(),\n",
    "            nn.Linear(128, 64),\n",
    "            nn.ReLU(),\n",
    "            nn.Linear(64, 64),\n",
    "            nn.ReLU(),\n",
    "            nn.Linear(64, nout)\n",
    "        )\n",
    "    def forward(self, x):\n",
    "        return self.model(x)\n",
    "def mse_loss(pred, goal):\n",
    "    return torch.mean((pred-goal)**2)    "
   ]
  },
  {
   "cell_type": "code",
   "execution_count": 611,
   "metadata": {
    "tags": []
   },
   "outputs": [
    {
     "data": {
      "image/png": "[encoded data removed]",
      "text/plain": [
       "<Figure size 640x480 with 1 Axes>"
      ]
     },
     "metadata": {},
     "output_type": "display_data"
    },
    {
     "ename": "KeyboardInterrupt",
     "evalue": "",
     "output_type": "error",
     "traceback": [
      "\u001b[0;31m---------------------------------------------------------------------------\u001b[0m",
      "\u001b[0;31mKeyboardInterrupt\u001b[0m                         Traceback (most recent call last)",
      "Cell \u001b[0;32mIn[611], line 15\u001b[0m\n\u001b[1;32m     13\u001b[0m game \u001b[38;5;241m=\u001b[39m Game2048()\n\u001b[1;32m     14\u001b[0m \u001b[38;5;28;01mwhile\u001b[39;00m \u001b[38;5;129;01mnot\u001b[39;00m game\u001b[38;5;241m.\u001b[39mis_game_over():\n\u001b[0;32m---> 15\u001b[0m     state \u001b[38;5;241m=\u001b[39m \u001b[43mget_state\u001b[49m\u001b[43m(\u001b[49m\u001b[43mgame\u001b[49m\u001b[43m)\u001b[49m\n\u001b[1;32m     16\u001b[0m     \u001b[38;5;28;01mif\u001b[39;00m np\u001b[38;5;241m.\u001b[39mrandom\u001b[38;5;241m.\u001b[39mrand() \u001b[38;5;241m>\u001b[39m \u001b[38;5;241m0.05\u001b[39m:\n\u001b[1;32m     17\u001b[0m         action \u001b[38;5;241m=\u001b[39m \u001b[38;5;28mint\u001b[39m(model(state)\u001b[38;5;241m.\u001b[39margmax())\n",
      "Cell \u001b[0;32mIn[598], line 24\u001b[0m, in \u001b[0;36mget_state\u001b[0;34m(game)\u001b[0m\n\u001b[1;32m     22\u001b[0m     new_game \u001b[38;5;241m=\u001b[39m Game2048()\n\u001b[1;32m     23\u001b[0m     new_game\u001b[38;5;241m.\u001b[39mboard \u001b[38;5;241m=\u001b[39m game\u001b[38;5;241m.\u001b[39mboard\u001b[38;5;241m.\u001b[39mcopy()\n\u001b[0;32m---> 24\u001b[0m     \u001b[43mnew_game\u001b[49m\u001b[38;5;241;43m.\u001b[39;49m\u001b[43mmove\u001b[49m\u001b[43m(\u001b[49m\u001b[43mmove\u001b[49m\u001b[43m)\u001b[49m\n\u001b[1;32m     25\u001b[0m     states\u001b[38;5;241m.\u001b[39mappend(flatten(new_game\u001b[38;5;241m.\u001b[39mboard\u001b[38;5;241m.\u001b[39mcopy())\u001b[38;5;241m.\u001b[39mfloat()\u001b[38;5;241m.\u001b[39mlog1p())\n\u001b[1;32m     26\u001b[0m state \u001b[38;5;241m=\u001b[39m flatten(game\u001b[38;5;241m.\u001b[39mboard\u001b[38;5;241m.\u001b[39mcopy())\u001b[38;5;241m.\u001b[39mfloat()\u001b[38;5;241m.\u001b[39mlog1p()\n",
      "Cell \u001b[0;32mIn[443], line 25\u001b[0m, in \u001b[0;36mGame2048.move\u001b[0;34m(self, direction)\u001b[0m\n\u001b[1;32m     23\u001b[0m \u001b[38;5;28;01melif\u001b[39;00m direction \u001b[38;5;241m==\u001b[39m \u001b[38;5;124m'\u001b[39m\u001b[38;5;124mup\u001b[39m\u001b[38;5;124m'\u001b[39m:\n\u001b[1;32m     24\u001b[0m     \u001b[38;5;28mself\u001b[39m\u001b[38;5;241m.\u001b[39mboard \u001b[38;5;241m=\u001b[39m np\u001b[38;5;241m.\u001b[39mrot90(\u001b[38;5;28mself\u001b[39m\u001b[38;5;241m.\u001b[39mboard, \u001b[38;5;241m1\u001b[39m)\n\u001b[0;32m---> 25\u001b[0m     \u001b[38;5;28;43mself\u001b[39;49m\u001b[38;5;241;43m.\u001b[39;49m\u001b[43m_move_left\u001b[49m\u001b[43m(\u001b[49m\u001b[43m)\u001b[49m\n\u001b[1;32m     26\u001b[0m     \u001b[38;5;28mself\u001b[39m\u001b[38;5;241m.\u001b[39mboard \u001b[38;5;241m=\u001b[39m np\u001b[38;5;241m.\u001b[39mrot90(\u001b[38;5;28mself\u001b[39m\u001b[38;5;241m.\u001b[39mboard, \u001b[38;5;241m-\u001b[39m\u001b[38;5;241m1\u001b[39m)\n\u001b[1;32m     27\u001b[0m \u001b[38;5;28;01melif\u001b[39;00m direction \u001b[38;5;241m==\u001b[39m \u001b[38;5;124m'\u001b[39m\u001b[38;5;124mleft\u001b[39m\u001b[38;5;124m'\u001b[39m:\n",
      "Cell \u001b[0;32mIn[443], line 43\u001b[0m, in \u001b[0;36mGame2048._move_left\u001b[0;34m(self)\u001b[0m\n\u001b[1;32m     41\u001b[0m new_row \u001b[38;5;241m=\u001b[39m []\n\u001b[1;32m     42\u001b[0m skip \u001b[38;5;241m=\u001b[39m \u001b[38;5;28;01mFalse\u001b[39;00m\n\u001b[0;32m---> 43\u001b[0m \u001b[38;5;28;01mfor\u001b[39;00m j \u001b[38;5;129;01min\u001b[39;00m \u001b[38;5;28mrange\u001b[39m(\u001b[38;5;28;43mlen\u001b[39;49m\u001b[43m(\u001b[49m\u001b[43mrow\u001b[49m\u001b[43m)\u001b[49m):\n\u001b[1;32m     44\u001b[0m     \u001b[38;5;28;01mif\u001b[39;00m skip:\n\u001b[1;32m     45\u001b[0m         skip \u001b[38;5;241m=\u001b[39m \u001b[38;5;28;01mFalse\u001b[39;00m\n",
      "\u001b[0;31mKeyboardInterrupt\u001b[0m: "
     ]
    }
   ],
   "source": [
    "episodes = 2000\n",
    "epsilons = np.geomspace(0.5, 0.1, episodes)\n",
    "# model = FullyConnectedQNetwork()\n",
    "# optimizer = optim.Adam(model.parameters(), lr=0.002)\n",
    "gamma = 0.995\n",
    "games_each_round = 15\n",
    "avgs = []\n",
    "stds = []\n",
    "for epoch in range(episodes):\n",
    "    experience_pool = []\n",
    "    rewards = []\n",
    "    for game_round in range(games_each_round):\n",
    "        game = Game2048()\n",
    "        while not game.is_game_over():\n",
    "            state = get_state(game)\n",
    "            if np.random.rand() > 0.05:\n",
    "                action = int(model(state).argmax())\n",
    "            else:\n",
    "                action = random.randint(0, 3)\n",
    "            game.move(['down', 'left', 'up', 'right'][action])\n",
    "            next_state = get_state(game)\n",
    "            if game.nomove:\n",
    "                reward = -20\n",
    "            else:\n",
    "                reward = game.reward\n",
    "            with torch.no_grad():\n",
    "                target = reward + gamma*model(next_state).max()*(not game.is_game_over())\n",
    "            experience_pool.append((state, action, target))\n",
    "        rewards.append(game.score)\n",
    "    rt = torch.tensor(rewards).float()\n",
    "    avgs.append(rt.mean())\n",
    "    stds.append(rt.std())\n",
    "    if len(avgs)>200:\n",
    "        avgs.pop(0)\n",
    "        stds.pop(0)\n",
    "    clear_output(wait=True)\n",
    "    plt.plot(avgs)\n",
    "    plt.plot(stds)\n",
    "    plt.show()\n",
    "    random.shuffle(experience_pool)\n",
    "    batch_size = 64\n",
    "    for k in range(0, len(experience_pool), batch_size):\n",
    "        states, actions, targets = zip(*experience_pool[k:k+batch_size])\n",
    "        X = torch.stack(states)\n",
    "        y = torch.stack(targets)\n",
    "        q_values = model(X).squeeze(1)\n",
    "        try:\n",
    "            chosen_q_values = q_values.gather(1, torch.tensor(actions).unsqueeze(1))\n",
    "        except Exception:\n",
    "            pdb.set_trace()\n",
    "        loss = mse_loss(chosen_q_values.squeeze(), y)\n",
    "        optimizer.zero_grad()\n",
    "        loss.backward()\n",
    "        optimizer.step() "
   ]
  },
  {
   "cell_type": "code",
   "execution_count": 562,
   "metadata": {
    "tags": []
   },
   "outputs": [],
   "source": [
    "torch.save(model.state_dict(), \"400_epoch_80_nin.pth\")"
   ]
  },
  {
   "cell_type": "code",
   "execution_count": 581,
   "metadata": {
    "tags": []
   },
   "outputs": [],
   "source": [
    "model_load = FullyConnectedQNetwork()"
   ]
  },
  {
   "cell_type": "code",
   "execution_count": 582,
   "metadata": {
    "tags": []
   },
   "outputs": [
    {
     "data": {
      "text/plain": [
       "<All keys matched successfully>"
      ]
     },
     "execution_count": 582,
     "metadata": {},
     "output_type": "execute_result"
    }
   ],
   "source": [
    "model_load.load_state_dict(torch.load(\"400_epoch_80_nin.pth\", weights_only=True))"
   ]
  },
  {
   "cell_type": "code",
   "execution_count": 590,
   "metadata": {
    "tags": []
   },
   "outputs": [],
   "source": [
    "game = Game2048()"
   ]
  },
  {
   "cell_type": "code",
   "execution_count": null,
   "metadata": {},
   "outputs": [],
   "source": []
  },
  {
   "cell_type": "code",
   "execution_count": 604,
   "metadata": {
    "tags": []
   },
   "outputs": [
    {
     "data": {
      "text/plain": [
       "tensor([[-0.1269, -0.0465,  0.0922,  0.0480]], grad_fn=<AddmmBackward0>)"
      ]
     },
     "execution_count": 604,
     "metadata": {},
     "output_type": "execute_result"
    }
   ],
   "source": [
    "model(get_state(Game2048()))"
   ]
  },
  {
   "cell_type": "markdown",
   "metadata": {},
   "source": [
    "### Play on browser with newest model"
   ]
  },
  {
   "cell_type": "code",
   "execution_count": 608,
   "metadata": {
    "tags": []
   },
   "outputs": [
    {
     "ename": "StaleElementReferenceException",
     "evalue": "Message: stale element reference: stale element not found in the current frame\n  (Session info: MicrosoftEdge=140.0.3485.94); For documentation on this error, please visit: https://www.selenium.dev/documentation/webdriver/troubleshooting/errors#staleelementreferenceexception\nStacktrace:\n0   msedgedriver                        0x00000001054ecfc0 msedgedriver + 5607360\n1   msedgedriver                        0x00000001054e4b2c msedgedriver + 5573420\n2   msedgedriver                        0x0000000104fdac20 msedgedriver + 289824\n3   msedgedriver                        0x0000000104fe05ec msedgedriver + 312812\n4   msedgedriver                        0x0000000104fe2df8 msedgedriver + 323064\n5   msedgedriver                        0x0000000105061510 msedgedriver + 840976\n6   msedgedriver                        0x00000001050608a0 msedgedriver + 837792\n7   msedgedriver                        0x00000001050182d0 msedgedriver + 541392\n8   msedgedriver                        0x00000001054ad8c8 msedgedriver + 5347528\n9   msedgedriver                        0x00000001054b1408 msedgedriver + 5362696\n10  msedgedriver                        0x000000010548db80 msedgedriver + 5217152\n11  msedgedriver                        0x00000001054b1c90 msedgedriver + 5364880\n12  msedgedriver                        0x000000010547f884 msedgedriver + 5159044\n13  msedgedriver                        0x00000001054d26a0 msedgedriver + 5498528\n14  msedgedriver                        0x00000001054d27c8 msedgedriver + 5498824\n15  msedgedriver                        0x00000001054e4728 msedgedriver + 5572392\n16  libsystem_pthread.dylib             0x00000001834efc0c _pthread_start + 136\n17  libsystem_pthread.dylib             0x00000001834eab80 thread_start + 8\n",
     "output_type": "error",
     "traceback": [
      "\u001b[0;31m---------------------------------------------------------------------------\u001b[0m",
      "\u001b[0;31mStaleElementReferenceException\u001b[0m            Traceback (most recent call last)",
      "Cell \u001b[0;32mIn[608], line 16\u001b[0m\n\u001b[1;32m     14\u001b[0m \u001b[38;5;28;01mwhile\u001b[39;00m \u001b[38;5;129;01mnot\u001b[39;00m is_game_over():\n\u001b[1;32m     15\u001b[0m     game \u001b[38;5;241m=\u001b[39m Game2048()\n\u001b[0;32m---> 16\u001b[0m     grid \u001b[38;5;241m=\u001b[39m np\u001b[38;5;241m.\u001b[39marray([[\u001b[38;5;28mint\u001b[39m(j) \u001b[38;5;28;01mfor\u001b[39;00m j \u001b[38;5;129;01min\u001b[39;00m i] \u001b[38;5;28;01mfor\u001b[39;00m i \u001b[38;5;129;01min\u001b[39;00m \u001b[43mupdate_tiles\u001b[49m\u001b[43m(\u001b[49m\u001b[43m)\u001b[49m])\n\u001b[1;32m     17\u001b[0m     \u001b[38;5;66;03m#pdb.set_trace()\u001b[39;00m\n\u001b[1;32m     18\u001b[0m     game\u001b[38;5;241m.\u001b[39mboard \u001b[38;5;241m=\u001b[39m grid\n",
      "Cell \u001b[0;32mIn[149], line 7\u001b[0m, in \u001b[0;36mupdate_tiles\u001b[0;34m()\u001b[0m\n\u001b[1;32m      5\u001b[0m tc \u001b[38;5;241m=\u001b[39m driver\u001b[38;5;241m.\u001b[39mfind_elements(By\u001b[38;5;241m.\u001b[39mCLASS_NAME, \u001b[38;5;124m'\u001b[39m\u001b[38;5;124mtile\u001b[39m\u001b[38;5;124m'\u001b[39m)\n\u001b[1;32m      6\u001b[0m \u001b[38;5;28;01mfor\u001b[39;00m each \u001b[38;5;129;01min\u001b[39;00m tc:\n\u001b[0;32m----> 7\u001b[0m     \u001b[38;5;28mcls\u001b[39m \u001b[38;5;241m=\u001b[39m \u001b[43meach\u001b[49m\u001b[38;5;241;43m.\u001b[39;49m\u001b[43mget_attribute\u001b[49m\u001b[43m(\u001b[49m\u001b[38;5;124;43m'\u001b[39;49m\u001b[38;5;124;43mclass\u001b[39;49m\u001b[38;5;124;43m'\u001b[39;49m\u001b[43m)\u001b[49m\n\u001b[1;32m      8\u001b[0m     level \u001b[38;5;241m=\u001b[39m \u001b[38;5;28mint\u001b[39m(\u001b[38;5;28mcls\u001b[39m\u001b[38;5;241m.\u001b[39msplit()[\u001b[38;5;241m1\u001b[39m]\u001b[38;5;241m.\u001b[39msplit(\u001b[38;5;124m'\u001b[39m\u001b[38;5;124m-\u001b[39m\u001b[38;5;124m'\u001b[39m)[\u001b[38;5;241m-\u001b[39m\u001b[38;5;241m1\u001b[39m])\n\u001b[1;32m      9\u001b[0m     position \u001b[38;5;241m=\u001b[39m \u001b[38;5;28mcls\u001b[39m\u001b[38;5;241m.\u001b[39msplit()[\u001b[38;5;241m2\u001b[39m]\u001b[38;5;241m.\u001b[39msplit(\u001b[38;5;124m'\u001b[39m\u001b[38;5;124m-\u001b[39m\u001b[38;5;124m'\u001b[39m)[\u001b[38;5;241m2\u001b[39m:]\n",
      "File \u001b[0;32m/opt/anaconda3/envs/deep/lib/python3.10/site-packages/selenium/webdriver/remote/webelement.py:232\u001b[0m, in \u001b[0;36mWebElement.get_attribute\u001b[0;34m(self, name)\u001b[0m\n\u001b[1;32m    230\u001b[0m \u001b[38;5;28;01mif\u001b[39;00m getAttribute_js \u001b[38;5;129;01mis\u001b[39;00m \u001b[38;5;28;01mNone\u001b[39;00m:\n\u001b[1;32m    231\u001b[0m     _load_js()\n\u001b[0;32m--> 232\u001b[0m attribute_value \u001b[38;5;241m=\u001b[39m \u001b[38;5;28;43mself\u001b[39;49m\u001b[38;5;241;43m.\u001b[39;49m\u001b[43mparent\u001b[49m\u001b[38;5;241;43m.\u001b[39;49m\u001b[43mexecute_script\u001b[49m\u001b[43m(\u001b[49m\n\u001b[1;32m    233\u001b[0m \u001b[43m    \u001b[49m\u001b[38;5;124;43mf\u001b[39;49m\u001b[38;5;124;43m\"\u001b[39;49m\u001b[38;5;124;43m/* getAttribute */return (\u001b[39;49m\u001b[38;5;132;43;01m{\u001b[39;49;00m\u001b[43mgetAttribute_js\u001b[49m\u001b[38;5;132;43;01m}\u001b[39;49;00m\u001b[38;5;124;43m).apply(null, arguments);\u001b[39;49m\u001b[38;5;124;43m\"\u001b[39;49m\u001b[43m,\u001b[49m\u001b[43m \u001b[49m\u001b[38;5;28;43mself\u001b[39;49m\u001b[43m,\u001b[49m\u001b[43m \u001b[49m\u001b[43mname\u001b[49m\n\u001b[1;32m    234\u001b[0m \u001b[43m\u001b[49m\u001b[43m)\u001b[49m\n\u001b[1;32m    235\u001b[0m \u001b[38;5;28;01mreturn\u001b[39;00m attribute_value\n",
      "File \u001b[0;32m/opt/anaconda3/envs/deep/lib/python3.10/site-packages/selenium/webdriver/remote/webdriver.py:555\u001b[0m, in \u001b[0;36mWebDriver.execute_script\u001b[0;34m(self, script, *args)\u001b[0m\n\u001b[1;32m    552\u001b[0m converted_args \u001b[38;5;241m=\u001b[39m \u001b[38;5;28mlist\u001b[39m(args)\n\u001b[1;32m    553\u001b[0m command \u001b[38;5;241m=\u001b[39m Command\u001b[38;5;241m.\u001b[39mW3C_EXECUTE_SCRIPT\n\u001b[0;32m--> 555\u001b[0m \u001b[38;5;28;01mreturn\u001b[39;00m \u001b[38;5;28;43mself\u001b[39;49m\u001b[38;5;241;43m.\u001b[39;49m\u001b[43mexecute\u001b[49m\u001b[43m(\u001b[49m\u001b[43mcommand\u001b[49m\u001b[43m,\u001b[49m\u001b[43m \u001b[49m\u001b[43m{\u001b[49m\u001b[38;5;124;43m\"\u001b[39;49m\u001b[38;5;124;43mscript\u001b[39;49m\u001b[38;5;124;43m\"\u001b[39;49m\u001b[43m:\u001b[49m\u001b[43m \u001b[49m\u001b[43mscript\u001b[49m\u001b[43m,\u001b[49m\u001b[43m \u001b[49m\u001b[38;5;124;43m\"\u001b[39;49m\u001b[38;5;124;43margs\u001b[39;49m\u001b[38;5;124;43m\"\u001b[39;49m\u001b[43m:\u001b[49m\u001b[43m \u001b[49m\u001b[43mconverted_args\u001b[49m\u001b[43m}\u001b[49m\u001b[43m)\u001b[49m[\u001b[38;5;124m\"\u001b[39m\u001b[38;5;124mvalue\u001b[39m\u001b[38;5;124m\"\u001b[39m]\n",
      "File \u001b[0;32m/opt/anaconda3/envs/deep/lib/python3.10/site-packages/selenium/webdriver/remote/webdriver.py:458\u001b[0m, in \u001b[0;36mWebDriver.execute\u001b[0;34m(self, driver_command, params)\u001b[0m\n\u001b[1;32m    455\u001b[0m response \u001b[38;5;241m=\u001b[39m cast(RemoteConnection, \u001b[38;5;28mself\u001b[39m\u001b[38;5;241m.\u001b[39mcommand_executor)\u001b[38;5;241m.\u001b[39mexecute(driver_command, params)\n\u001b[1;32m    457\u001b[0m \u001b[38;5;28;01mif\u001b[39;00m response:\n\u001b[0;32m--> 458\u001b[0m     \u001b[38;5;28;43mself\u001b[39;49m\u001b[38;5;241;43m.\u001b[39;49m\u001b[43merror_handler\u001b[49m\u001b[38;5;241;43m.\u001b[39;49m\u001b[43mcheck_response\u001b[49m\u001b[43m(\u001b[49m\u001b[43mresponse\u001b[49m\u001b[43m)\u001b[49m\n\u001b[1;32m    459\u001b[0m     response[\u001b[38;5;124m\"\u001b[39m\u001b[38;5;124mvalue\u001b[39m\u001b[38;5;124m\"\u001b[39m] \u001b[38;5;241m=\u001b[39m \u001b[38;5;28mself\u001b[39m\u001b[38;5;241m.\u001b[39m_unwrap_value(response\u001b[38;5;241m.\u001b[39mget(\u001b[38;5;124m\"\u001b[39m\u001b[38;5;124mvalue\u001b[39m\u001b[38;5;124m\"\u001b[39m, \u001b[38;5;28;01mNone\u001b[39;00m))\n\u001b[1;32m    460\u001b[0m     \u001b[38;5;28;01mreturn\u001b[39;00m response\n",
      "File \u001b[0;32m/opt/anaconda3/envs/deep/lib/python3.10/site-packages/selenium/webdriver/remote/errorhandler.py:232\u001b[0m, in \u001b[0;36mErrorHandler.check_response\u001b[0;34m(self, response)\u001b[0m\n\u001b[1;32m    230\u001b[0m         alert_text \u001b[38;5;241m=\u001b[39m value[\u001b[38;5;124m\"\u001b[39m\u001b[38;5;124malert\u001b[39m\u001b[38;5;124m\"\u001b[39m]\u001b[38;5;241m.\u001b[39mget(\u001b[38;5;124m\"\u001b[39m\u001b[38;5;124mtext\u001b[39m\u001b[38;5;124m\"\u001b[39m)\n\u001b[1;32m    231\u001b[0m     \u001b[38;5;28;01mraise\u001b[39;00m exception_class(message, screen, stacktrace, alert_text)  \u001b[38;5;66;03m# type: ignore[call-arg]  # mypy is not smart enough here\u001b[39;00m\n\u001b[0;32m--> 232\u001b[0m \u001b[38;5;28;01mraise\u001b[39;00m exception_class(message, screen, stacktrace)\n",
      "\u001b[0;31mStaleElementReferenceException\u001b[0m: Message: stale element reference: stale element not found in the current frame\n  (Session info: MicrosoftEdge=140.0.3485.94); For documentation on this error, please visit: https://www.selenium.dev/documentation/webdriver/troubleshooting/errors#staleelementreferenceexception\nStacktrace:\n0   msedgedriver                        0x00000001054ecfc0 msedgedriver + 5607360\n1   msedgedriver                        0x00000001054e4b2c msedgedriver + 5573420\n2   msedgedriver                        0x0000000104fdac20 msedgedriver + 289824\n3   msedgedriver                        0x0000000104fe05ec msedgedriver + 312812\n4   msedgedriver                        0x0000000104fe2df8 msedgedriver + 323064\n5   msedgedriver                        0x0000000105061510 msedgedriver + 840976\n6   msedgedriver                        0x00000001050608a0 msedgedriver + 837792\n7   msedgedriver                        0x00000001050182d0 msedgedriver + 541392\n8   msedgedriver                        0x00000001054ad8c8 msedgedriver + 5347528\n9   msedgedriver                        0x00000001054b1408 msedgedriver + 5362696\n10  msedgedriver                        0x000000010548db80 msedgedriver + 5217152\n11  msedgedriver                        0x00000001054b1c90 msedgedriver + 5364880\n12  msedgedriver                        0x000000010547f884 msedgedriver + 5159044\n13  msedgedriver                        0x00000001054d26a0 msedgedriver + 5498528\n14  msedgedriver                        0x00000001054d27c8 msedgedriver + 5498824\n15  msedgedriver                        0x00000001054e4728 msedgedriver + 5572392\n16  libsystem_pthread.dylib             0x00000001834efc0c _pthread_start + 136\n17  libsystem_pthread.dylib             0x00000001834eab80 thread_start + 8\n"
     ]
    }
   ],
   "source": [
    "url = \"http://home.ustc.edu.cn/~hejiyan/flxg/\"\n",
    "driver = webdriver.Edge()\n",
    "driver.get(url)\n",
    "t0 = time.time()\n",
    "t1 = time.time()\n",
    "scores = []\n",
    "all_states = []\n",
    "all_actions = []\n",
    "for j in range(10):\n",
    "    refresh(driver)\n",
    "    time.sleep(1)\n",
    "    states = []\n",
    "    actions = []\n",
    "    while not is_game_over():\n",
    "        game = Game2048()\n",
    "        grid = np.array([[int(j) for j in i] for i in update_tiles()])\n",
    "        #pdb.set_trace()\n",
    "        game.board = grid\n",
    "        state = get_state(game)\n",
    "        states.append(state)\n",
    "        action = model(state).argmax()\n",
    "        send_key(action)\n",
    "        actions.append(action)\n",
    "        time.sleep(0.15)\n",
    "    scores.append(get_score())\n",
    "    print(f\"Completed {j}th game. Score: {scores[-1]}.\")\n",
    "    all_states.append(states)\n",
    "    all_actions.append(actions)\n",
    "print(\"Average score: \", torch.tensor(scores, dtype=float).mean())\n",
    "X = []\n",
    "y = []\n",
    "t2 = time.time()\n",
    "print(\"Epoch complete. Time elapsed: \", t2-t1, \"s. Total: \", t2-t0, \"s.\")"
   ]
  },
  {
   "cell_type": "code",
   "execution_count": 109,
   "metadata": {
    "tags": []
   },
   "outputs": [],
   "source": [
    "#| hide\n",
    "import nbdev; nbdev.nbdev_export()"
   ]
  },
  {
   "cell_type": "code",
   "execution_count": 544,
   "metadata": {},
   "outputs": [
    {
     "data": {
      "text/plain": [
       "2"
      ]
     },
     "execution_count": 544,
     "metadata": {},
     "output_type": "execute_result"
    }
   ],
   "source": [
    "1+1"
   ]
  },
  {
   "cell_type": "code",
   "execution_count": null,
   "metadata": {},
   "outputs": [],
   "source": []
  }
 ],
 "metadata": {
  "kernelspec": {
   "display_name": "Python 3 (ipykernel)",
   "language": "python",
   "name": "python3"
  },
  "language_info": {
   "codemirror_mode": {
    "name": "ipython",
    "version": 3
   },
   "file_extension": ".py",
   "mimetype": "text/x-python",
   "name": "python",
   "nbconvert_exporter": "python",
   "pygments_lexer": "ipython3",
   "version": "3.10.18"
  }
 },
 "nbformat": 4,
 "nbformat_minor": 4
}
